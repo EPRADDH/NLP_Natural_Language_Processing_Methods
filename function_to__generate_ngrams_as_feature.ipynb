{
  "nbformat": 4,
  "nbformat_minor": 0,
  "metadata": {
    "colab": {
      "name": "function_to _generate_ngrams as feature.ipynb",
      "provenance": [],
      "collapsed_sections": [],
      "authorship_tag": "ABX9TyPFzYWutQb9c5qujEJd3CIe",
      "include_colab_link": true
    },
    "kernelspec": {
      "name": "python3",
      "display_name": "Python 3"
    }
  },
  "cells": [
    {
      "cell_type": "markdown",
      "metadata": {
        "id": "view-in-github",
        "colab_type": "text"
      },
      "source": [
        "<a href=\"https://colab.research.google.com/github/EPRADDH/NLP_Natural_Language_Processing_Methods/blob/main/function_to__generate_ngrams_as_feature.ipynb\" target=\"_parent\"><img src=\"https://colab.research.google.com/assets/colab-badge.svg\" alt=\"Open In Colab\"/></a>"
      ]
    },
    {
      "cell_type": "code",
      "metadata": {
        "id": "_aUSBm3fLMeM"
      },
      "source": [
        ""
      ],
      "execution_count": null,
      "outputs": []
    },
    {
      "cell_type": "markdown",
      "metadata": {
        "id": "4YN1txO7LNzn"
      },
      "source": [
        "def generate_ngrams(text, n):\r\n",
        "    words = text.split()\r\n",
        "    output = []  \r\n",
        "    for i in range(len(words)-n+1):\r\n",
        "        output.append(words[i:i+n])\r\n",
        "    return output\r\n"
      ]
    },
    {
      "cell_type": "code",
      "metadata": {
        "id": "0Ui_sentLe1q"
      },
      "source": [
        "def generate_ngrams(text, n):\r\n",
        "    words = text.split()\r\n",
        "    output = []  \r\n",
        "    for i in range(len(words)-n+1):\r\n",
        "        output.append(words[i:i+n])\r\n",
        "    return output\r\n"
      ],
      "execution_count": null,
      "outputs": []
    },
    {
      "cell_type": "code",
      "metadata": {
        "colab": {
          "base_uri": "https://localhost:8080/"
        },
        "id": "ZmpejjPPLhnU",
        "outputId": "e40fdef7-18b0-4912-afc9-d9f2f7d37fea"
      },
      "source": [
        "generate_ngrams('this is a sample text', 2)"
      ],
      "execution_count": null,
      "outputs": [
        {
          "output_type": "execute_result",
          "data": {
            "text/plain": [
              "[['this', 'is'], ['is', 'a'], ['a', 'sample'], ['sample', 'text']]"
            ]
          },
          "metadata": {
            "tags": []
          },
          "execution_count": 2
        }
      ]
    },
    {
      "cell_type": "code",
      "metadata": {
        "id": "J1uM2hJJLkIW",
        "colab": {
          "base_uri": "https://localhost:8080/"
        },
        "outputId": "3d1cfdbb-353c-48a8-80e7-9c01eeaa9830"
      },
      "source": [
        "generate_ngrams('this is a sample text', 3)"
      ],
      "execution_count": null,
      "outputs": [
        {
          "output_type": "execute_result",
          "data": {
            "text/plain": [
              "[['this', 'is', 'a'], ['is', 'a', 'sample'], ['a', 'sample', 'text']]"
            ]
          },
          "metadata": {
            "tags": []
          },
          "execution_count": 3
        }
      ]
    },
    {
      "cell_type": "code",
      "metadata": {
        "id": "asHYeFO3LmRR"
      },
      "source": [
        ""
      ],
      "execution_count": null,
      "outputs": []
    }
  ]
}