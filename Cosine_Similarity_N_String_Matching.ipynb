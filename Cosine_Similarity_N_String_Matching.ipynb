{
  "nbformat": 4,
  "nbformat_minor": 0,
  "metadata": {
    "colab": {
      "name": "Cosine_Similarity_N_String_Matching.ipynb",
      "provenance": [],
      "collapsed_sections": [],
      "authorship_tag": "ABX9TyN91bB1kBq41jZmLcJwPsgp",
      "include_colab_link": true
    },
    "kernelspec": {
      "name": "python3",
      "display_name": "Python 3"
    }
  },
  "cells": [
    {
      "cell_type": "markdown",
      "metadata": {
        "id": "view-in-github",
        "colab_type": "text"
      },
      "source": [
        "<a href=\"https://colab.research.google.com/github/EPRADDH/NLP_Natural_Language_Processing_Methods/blob/main/Cosine_Similarity_N_String_Matching.ipynb\" target=\"_parent\"><img src=\"https://colab.research.google.com/assets/colab-badge.svg\" alt=\"Open In Colab\"/></a>"
      ]
    },
    {
      "cell_type": "markdown",
      "metadata": {
        "id": "fclHh6hgb_b4"
      },
      "source": [
        "Some of the popular similarity measures are –\r\n",
        "\r\n",
        "Euclidean Distance.\r\n",
        "\r\n",
        "Manhattan Distance.\r\n",
        "\r\n",
        "Jaccard Similarity.\r\n",
        "\r\n",
        "Minkowski Distance.\r\n",
        "\r\n",
        "Cosine Similarity."
      ]
    },
    {
      "cell_type": "markdown",
      "metadata": {
        "id": "DuCspvWTw-04"
      },
      "source": [
        "# Cosine Similarity\r\n",
        "\r\n",
        "Cosine Similarity is a measurement that quantifies the similarity between two or more vectors\r\n",
        "\r\n",
        "The cosine similarity is the cosine of the angle between vectors\r\n",
        "\r\n",
        "Suppose the angle between the two vectors was 90 degrees. In that case, the cosine similarity will have a value of 0; this means that the two vectors are orthogonal or perpendicular to each other.\r\n",
        "\r\n",
        "As the cosine similarity measurement gets closer to 1, then the angle between the two vectors A and B is smaller.\r\n",
        "\r\n",
        "\r\n",
        "The cosine similarity is described mathematically as the division between the dot product of vectors and the product of the euclidean norms or magnitude of each vector\r\n",
        "\r\n",
        "\r\n",
        "![image.png](data:image/png;base64,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)"
      ]
    },
    {
      "cell_type": "markdown",
      "metadata": {
        "id": "WyDdpNabQvQj"
      },
      "source": [
        "Here’s an example:\r\n",
        "\r\n",
        "Document 1: Deep Learning can be hard\r\n",
        "Document 2: Deep Learning can be simple\r\n",
        "\r\n",
        "## Step 1: \r\n",
        "\r\n",
        "First we obtain a vectorised representation of the texts\r\n",
        "Image for post\r\n",
        "\r\n",
        "Document 1: [1, 1, 1, 1, 1, 0] let’s refer to this as A\r\n",
        "\r\n",
        "Document 2: [1, 1, 1, 1, 0, 1] let’s refer to this as B\r\n",
        "\r\n",
        "Above we have two vectors (A and B) that are in a 6 dimension vector space\r\n",
        "\r\n",
        "## Step 2: \r\n",
        "\r\n",
        "Find the cosine similarity\r\n",
        "\r\n",
        "cosine similarity (CS) = (A . B) / (||A|| ||B||)\r\n",
        "\r\n",
        "Calculate the dot product between A and B: 1.1 + 1.1 + 1.1 + 1.1 + 1.0 + 0.1 = 4\r\n",
        "\r\n",
        "Calculate the magnitude of the vector A: √1² + 1² + 1² + 1² + 1² + 0² = 2.2360679775\r\n",
        "\r\n",
        "Calculate the magnitude of the vector B: √1² + 1² + 1² + 1² + 0²+ 1² = 2.2360679775\r\n",
        "\r\n",
        "Calculate the cosine similarity: (4) / (2.2360679775*2.2360679775) = 0.80 (80% similarity between the sentences in both document)"
      ]
    },
    {
      "cell_type": "code",
      "metadata": {
        "id": "lBAUtHzdwsG7"
      },
      "source": [
        "import math\r\n",
        "from collections import Counter\r\n",
        "def get_cosine(vec1, vec2):\r\n",
        "    common = set(vec1.keys()) & set(vec2.keys())\r\n",
        "    numerator = sum([vec1[x] * vec2[x] for x in common])\r\n",
        "\r\n",
        "    sum1 = sum([vec1[x]**2 for x in vec1.keys()]) \r\n",
        "    sum2 = sum([vec2[x]**2 for x in vec2.keys()]) \r\n",
        "    denominator = math.sqrt(sum1) * math.sqrt(sum2)\r\n",
        "   \r\n",
        "    if not denominator:\r\n",
        "        return 0.0 \r\n",
        "    else:\r\n",
        "        return float(numerator) / denominator\r\n",
        "\r\n",
        "def text_to_vector(text): \r\n",
        "    words = text.split() \r\n",
        "    return Counter(words)\r\n",
        "\r\n",
        "text1 = 'This is an article on analytics vidhya' \r\n",
        "text2 = 'article on analytics vidhya is about natural language processing'\r\n",
        "\r\n",
        "vector1 = text_to_vector(text1) \r\n",
        "vector2 = text_to_vector(text2) \r\n",
        "cosine = get_cosine(vector1, vector2)"
      ],
      "execution_count": null,
      "outputs": []
    },
    {
      "cell_type": "code",
      "metadata": {
        "colab": {
          "base_uri": "https://localhost:8080/"
        },
        "id": "kr-mBsaXw7y3",
        "outputId": "52f6a5f1-7d11-4986-eb0b-fdd0eaf35474"
      },
      "source": [
        "cosine"
      ],
      "execution_count": null,
      "outputs": [
        {
          "output_type": "execute_result",
          "data": {
            "text/plain": [
              "0.629940788348712"
            ]
          },
          "metadata": {
            "tags": []
          },
          "execution_count": 2
        }
      ]
    },
    {
      "cell_type": "code",
      "metadata": {
        "id": "MmGmydg9xJyA"
      },
      "source": [
        ""
      ],
      "execution_count": null,
      "outputs": []
    },
    {
      "cell_type": "markdown",
      "metadata": {
        "id": "rjeg_TmGa9oL"
      },
      "source": [
        "#Practice Using Scikit-learn (sklearn)"
      ]
    },
    {
      "cell_type": "code",
      "metadata": {
        "id": "up3gzOXCbBs-"
      },
      "source": [
        "documents = (\r\n",
        "\"The sky is blue\",\r\n",
        "\"The sun is bright\",\r\n",
        "\"The sun in the sky is bright\",\r\n",
        "\"We can see the shining sun, the bright sun\"\r\n",
        ")"
      ],
      "execution_count": null,
      "outputs": []
    },
    {
      "cell_type": "code",
      "metadata": {
        "colab": {
          "base_uri": "https://localhost:8080/"
        },
        "id": "ngRVBEXzbELC",
        "outputId": "77077f90-7ad9-4414-dd7e-e670c1d1e770"
      },
      "source": [
        "from sklearn.feature_extraction.text import TfidfVectorizer\r\n",
        "tfidf_vectorizer = TfidfVectorizer()\r\n",
        "tfidf_matrix = tfidf_vectorizer.fit_transform(documents)\r\n",
        "print (tfidf_matrix.shape)\r\n"
      ],
      "execution_count": null,
      "outputs": [
        {
          "output_type": "stream",
          "text": [
            "(4, 11)\n"
          ],
          "name": "stdout"
        }
      ]
    },
    {
      "cell_type": "code",
      "metadata": {
        "colab": {
          "base_uri": "https://localhost:8080/"
        },
        "id": "h4fXMCB3bGwZ",
        "outputId": "7d6eca27-984a-4cbd-9087-752705217278"
      },
      "source": [
        "from sklearn.metrics.pairwise import cosine_similarity\r\n",
        "cosine_similarity(tfidf_matrix[0:1], tfidf_matrix)"
      ],
      "execution_count": null,
      "outputs": [
        {
          "output_type": "execute_result",
          "data": {
            "text/plain": [
              "array([[1.        , 0.36651513, 0.52305744, 0.13448867]])"
            ]
          },
          "metadata": {
            "tags": []
          },
          "execution_count": 5
        }
      ]
    },
    {
      "cell_type": "code",
      "metadata": {
        "colab": {
          "base_uri": "https://localhost:8080/"
        },
        "id": "QMrKcWezbOfC",
        "outputId": "45467098-8bdf-4483-afb9-d94ae21b7020"
      },
      "source": [
        "import math\r\n",
        "# This was already calculated on the previous step, so we just use the value\r\n",
        "cos_sim = 0.52305744\r\n",
        "angle_in_radians = math.acos(cos_sim)\r\n",
        "print (math.degrees(angle_in_radians))"
      ],
      "execution_count": null,
      "outputs": [
        {
          "output_type": "stream",
          "text": [
            "58.462437107432784\n"
          ],
          "name": "stdout"
        }
      ]
    },
    {
      "cell_type": "code",
      "metadata": {
        "id": "tArPdDoFbXrW"
      },
      "source": [
        ""
      ],
      "execution_count": null,
      "outputs": []
    },
    {
      "cell_type": "markdown",
      "metadata": {
        "id": "TKRVp6Tqcnvb"
      },
      "source": [
        "#The Jaccard Similarity algorithm"
      ]
    },
    {
      "cell_type": "markdown",
      "metadata": {
        "id": "-LLIi-rqf-jA"
      },
      "source": [
        "Cosine similarity is for comparing two real-valued vectors, but Jaccard similarity is for comparing two binary vectors (sets).\r\n",
        "\r\n",
        "![image.png](data:image/png;base64,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)\r\n",
        "\r\n",
        "\r\n",
        "\r\n",
        "\r\n"
      ]
    },
    {
      "cell_type": "markdown",
      "metadata": {
        "id": "IoljzuaGgcHF"
      },
      "source": [
        "![image.png](data:image/png;base64,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)\r\n",
        "\r\n",
        "\r\n",
        "Jaccard similarity divides the size of the intersection by the size of the union of the sample sets\r\n",
        "\r\n",
        "Both Cosine similarity and Jaccard similarity are common metrics for calculating text similarity. Calculating the Jaccard similarity is computationally more expensive as it matches all the terms of one document to another document. The Jaccard similarity turns out to be useful by detecting duplicates.\r\n",
        "\r\n",
        "\r\n"
      ]
    },
    {
      "cell_type": "code",
      "metadata": {
        "colab": {
          "base_uri": "https://localhost:8080/"
        },
        "id": "kl6fyv6Wgxep",
        "outputId": "1d374414-584d-48db-826b-17de0b1b3c91"
      },
      "source": [
        "from sklearn.metrics import jaccard_score\r\n",
        "A = [1, 1, 1, 0]\r\n",
        "B = [1, 1, 0, 1]\r\n",
        "jacc = jaccard_score(A,B)\r\n",
        "print(\"Jaccard similarity: %.3f\" % (jacc))"
      ],
      "execution_count": null,
      "outputs": [
        {
          "output_type": "stream",
          "text": [
            "Jaccard similarity: 0.500\n"
          ],
          "name": "stdout"
        }
      ]
    },
    {
      "cell_type": "markdown",
      "metadata": {
        "id": "xdZJa0yZcv9j"
      },
      "source": [
        "#The Pearson Similarity algorithm"
      ]
    },
    {
      "cell_type": "markdown",
      "metadata": {
        "id": "cbGu61JTfoYf"
      },
      "source": [
        "The Pearson correlation coefficient measures the linear relationship\r\n",
        " between two datasets. Strictly speaking, Pearson's correlation requires\r\n",
        " that each dataset be normally distributed. Like other correlation\r\n",
        " coefficients, this one varies between -1 and +1 with 0 implying no\r\n",
        " correlation. Correlations of -1 or +1 imply an exact linear\r\n",
        " relationship. Positive correlations imply that as x increases, so does\r\n",
        " y. Negative correlations imply that as x increases, y decreases."
      ]
    },
    {
      "cell_type": "code",
      "metadata": {
        "id": "j0fDtZH6cpfK"
      },
      "source": [
        "#seed random number generator\r\n",
        "import numpy as np\r\n",
        "np.random.seed(42)\r\n",
        "# prepare data\r\n",
        "x = np.random.randn(15)\r\n",
        "y = x + np.random.randn(15)"
      ],
      "execution_count": null,
      "outputs": []
    },
    {
      "cell_type": "code",
      "metadata": {
        "colab": {
          "base_uri": "https://localhost:8080/"
        },
        "id": "qPO6weYtfaQ4",
        "outputId": "34ff95d6-be73-4593-a506-1474f2bbdb67"
      },
      "source": [
        "from pydoc import help\r\n",
        "from scipy.stats.stats import pearsonr\r\n",
        "help(pearsonr)\r\n"
      ],
      "execution_count": null,
      "outputs": [
        {
          "output_type": "stream",
          "text": [
            "Help on function pearsonr in module scipy.stats.stats:\n",
            "\n",
            "pearsonr(x, y)\n",
            "    Pearson correlation coefficient and p-value for testing non-correlation.\n",
            "    \n",
            "    The Pearson correlation coefficient [1]_ measures the linear relationship\n",
            "    between two datasets.  The calculation of the p-value relies on the\n",
            "    assumption that each dataset is normally distributed.  (See Kowalski [3]_\n",
            "    for a discussion of the effects of non-normality of the input on the\n",
            "    distribution of the correlation coefficient.)  Like other correlation\n",
            "    coefficients, this one varies between -1 and +1 with 0 implying no\n",
            "    correlation. Correlations of -1 or +1 imply an exact linear relationship.\n",
            "    Positive correlations imply that as x increases, so does y. Negative\n",
            "    correlations imply that as x increases, y decreases.\n",
            "    \n",
            "    The p-value roughly indicates the probability of an uncorrelated system\n",
            "    producing datasets that have a Pearson correlation at least as extreme\n",
            "    as the one computed from these datasets.\n",
            "    \n",
            "    Parameters\n",
            "    ----------\n",
            "    x : (N,) array_like\n",
            "        Input array.\n",
            "    y : (N,) array_like\n",
            "        Input array.\n",
            "    \n",
            "    Returns\n",
            "    -------\n",
            "    r : float\n",
            "        Pearson's correlation coefficient.\n",
            "    p-value : float\n",
            "        Two-tailed p-value.\n",
            "    \n",
            "    Warns\n",
            "    -----\n",
            "    PearsonRConstantInputWarning\n",
            "        Raised if an input is a constant array.  The correlation coefficient\n",
            "        is not defined in this case, so ``np.nan`` is returned.\n",
            "    \n",
            "    PearsonRNearConstantInputWarning\n",
            "        Raised if an input is \"nearly\" constant.  The array ``x`` is considered\n",
            "        nearly constant if ``norm(x - mean(x)) < 1e-13 * abs(mean(x))``.\n",
            "        Numerical errors in the calculation ``x - mean(x)`` in this case might\n",
            "        result in an inaccurate calculation of r.\n",
            "    \n",
            "    See Also\n",
            "    --------\n",
            "    spearmanr : Spearman rank-order correlation coefficient.\n",
            "    kendalltau : Kendall's tau, a correlation measure for ordinal data.\n",
            "    \n",
            "    Notes\n",
            "    -----\n",
            "    The correlation coefficient is calculated as follows:\n",
            "    \n",
            "    .. math::\n",
            "    \n",
            "        r = \\frac{\\sum (x - m_x) (y - m_y)}\n",
            "                 {\\sqrt{\\sum (x - m_x)^2 \\sum (y - m_y)^2}}\n",
            "    \n",
            "    where :math:`m_x` is the mean of the vector :math:`x` and :math:`m_y` is\n",
            "    the mean of the vector :math:`y`.\n",
            "    \n",
            "    Under the assumption that x and y are drawn from independent normal\n",
            "    distributions (so the population correlation coefficient is 0), the\n",
            "    probability density function of the sample correlation coefficient r\n",
            "    is ([1]_, [2]_)::\n",
            "    \n",
            "               (1 - r**2)**(n/2 - 2)\n",
            "        f(r) = ---------------------\n",
            "                  B(1/2, n/2 - 1)\n",
            "    \n",
            "    where n is the number of samples, and B is the beta function.  This\n",
            "    is sometimes referred to as the exact distribution of r.  This is\n",
            "    the distribution that is used in `pearsonr` to compute the p-value.\n",
            "    The distribution is a beta distribution on the interval [-1, 1],\n",
            "    with equal shape parameters a = b = n/2 - 1.  In terms of SciPy's\n",
            "    implementation of the beta distribution, the distribution of r is::\n",
            "    \n",
            "        dist = scipy.stats.beta(n/2 - 1, n/2 - 1, loc=-1, scale=2)\n",
            "    \n",
            "    The p-value returned by `pearsonr` is a two-sided p-value.  For a\n",
            "    given sample with correlation coefficient r, the p-value is\n",
            "    the probability that abs(r') of a random sample x' and y' drawn from\n",
            "    the population with zero correlation would be greater than or equal\n",
            "    to abs(r).  In terms of the object ``dist`` shown above, the p-value\n",
            "    for a given r and length n can be computed as::\n",
            "    \n",
            "        p = 2*dist.cdf(-abs(r))\n",
            "    \n",
            "    When n is 2, the above continuous distribution is not well-defined.\n",
            "    One can interpret the limit of the beta distribution as the shape\n",
            "    parameters a and b approach a = b = 0 as a discrete distribution with\n",
            "    equal probability masses at r = 1 and r = -1.  More directly, one\n",
            "    can observe that, given the data x = [x1, x2] and y = [y1, y2], and\n",
            "    assuming x1 != x2 and y1 != y2, the only possible values for r are 1\n",
            "    and -1.  Because abs(r') for any sample x' and y' with length 2 will\n",
            "    be 1, the two-sided p-value for a sample of length 2 is always 1.\n",
            "    \n",
            "    References\n",
            "    ----------\n",
            "    .. [1] \"Pearson correlation coefficient\", Wikipedia,\n",
            "           https://en.wikipedia.org/wiki/Pearson_correlation_coefficient\n",
            "    .. [2] Student, \"Probable error of a correlation coefficient\",\n",
            "           Biometrika, Volume 6, Issue 2-3, 1 September 1908, pp. 302-310.\n",
            "    .. [3] C. J. Kowalski, \"On the Effects of Non-Normality on the Distribution\n",
            "           of the Sample Product-Moment Correlation Coefficient\"\n",
            "           Journal of the Royal Statistical Society. Series C (Applied\n",
            "           Statistics), Vol. 21, No. 1 (1972), pp. 1-12.\n",
            "    \n",
            "    Examples\n",
            "    --------\n",
            "    >>> from scipy import stats\n",
            "    >>> a = np.array([0, 0, 0, 1, 1, 1, 1])\n",
            "    >>> b = np.arange(7)\n",
            "    >>> stats.pearsonr(a, b)\n",
            "    (0.8660254037844386, 0.011724811003954649)\n",
            "    \n",
            "    >>> stats.pearsonr([1, 2, 3, 4, 5], [10, 9, 2.5, 6, 4])\n",
            "    (-0.7426106572325057, 0.1505558088534455)\n",
            "\n"
          ],
          "name": "stdout"
        }
      ]
    },
    {
      "cell_type": "code",
      "metadata": {
        "colab": {
          "base_uri": "https://localhost:8080/"
        },
        "id": "d4o8PTjkeZNs",
        "outputId": "8db6d6dd-c33e-42db-8897-247af386c865"
      },
      "source": [
        "\r\n",
        "# calculate Pearson's correlation\r\n",
        "corr, _ = pearsonr(x, y)\r\n",
        "print('Pearsons correlation: %.3f' % corr)"
      ],
      "execution_count": null,
      "outputs": [
        {
          "output_type": "stream",
          "text": [
            "Pearsons correlation: 0.810\n"
          ],
          "name": "stdout"
        }
      ]
    },
    {
      "cell_type": "code",
      "metadata": {
        "id": "b7v3FyRLegBb"
      },
      "source": [
        ""
      ],
      "execution_count": null,
      "outputs": []
    }
  ]
}