{
  "nbformat": 4,
  "nbformat_minor": 0,
  "metadata": {
    "kernelspec": {
      "display_name": "Python 3",
      "language": "python",
      "name": "python3"
    },
    "language_info": {
      "codemirror_mode": {
        "name": "ipython",
        "version": 3
      },
      "file_extension": ".py",
      "mimetype": "text/x-python",
      "name": "python",
      "nbconvert_exporter": "python",
      "pygments_lexer": "ipython3",
      "version": "3.7.4"
    },
    "colab": {
      "name": "Copy of RNNs _classify _tweets as positive or negative..ipynb",
      "provenance": [],
      "include_colab_link": true
    },
    "accelerator": "GPU"
  },
  "cells": [
    {
      "cell_type": "markdown",
      "metadata": {
        "id": "view-in-github",
        "colab_type": "text"
      },
      "source": [
        "<a href=\"https://colab.research.google.com/github/EPRADDH/NLP_Natural_Language_Processing_Methods/blob/main/Copy_of_RNNs__classify__tweets_as_positive_or_negative_.ipynb\" target=\"_parent\"><img src=\"https://colab.research.google.com/assets/colab-badge.svg\" alt=\"Open In Colab\"/></a>"
      ]
    },
    {
      "cell_type": "code",
      "metadata": {
        "colab": {
          "base_uri": "https://localhost:8080/"
        },
        "id": "hUjb39bxEDQi",
        "outputId": "14222fd5-be44-4a5f-8c32-30a1d0559c8d"
      },
      "source": [
        "from google.colab import drive\n",
        "drive.mount('/content/drive')"
      ],
      "execution_count": null,
      "outputs": [
        {
          "output_type": "stream",
          "text": [
            "Mounted at /content/drive\n"
          ],
          "name": "stdout"
        }
      ]
    },
    {
      "cell_type": "code",
      "metadata": {
        "id": "IM7WXgJIP2gH"
      },
      "source": [
        "# import all libraries\n",
        "import keras\n",
        "from keras.models import Sequential\n",
        "from keras.layers import Dense, Activation, Dropout\n",
        "from keras.layers.convolutional import Conv1D\n",
        "from keras.preprocessing.text import Tokenizer\n",
        "from keras.preprocessing.sequence import pad_sequences\n",
        "import pandas as pd\n",
        "import numpy as np\n",
        "import spacy\n",
        "#nlp=spacy.load(\"en\")\n",
        "nlp = spacy.load('en_core_web_sm',disable=['parser', 'tagger','ner'])"
      ],
      "execution_count": null,
      "outputs": []
    },
    {
      "cell_type": "code",
      "metadata": {
        "id": "aHNBF9OpP2gI"
      },
      "source": [
        "nlp = spacy.load('en_core_web_sm')"
      ],
      "execution_count": null,
      "outputs": []
    },
    {
      "cell_type": "code",
      "metadata": {
        "id": "sY26Bk5-P2gJ"
      },
      "source": [
        "#load the dataset\n",
        "train=pd.read_csv(\"/content/drive/MyDrive/NLP-Natural-Language-Processing-Methods/New folder/training.1600000.processed.noemoticon.csv\" , encoding= \"latin-1\")\n",
        "Y_train = train[train.columns[0]]\n",
        "X_train = train[train.columns[5]]"
      ],
      "execution_count": null,
      "outputs": []
    },
    {
      "cell_type": "code",
      "metadata": {
        "id": "ZYLODaI6P2gJ",
        "colab": {
          "base_uri": "https://localhost:8080/",
          "height": 323
        },
        "outputId": "f7def5ae-311d-4e06-8c37-eff9fb85dfff"
      },
      "source": [
        "train.head()"
      ],
      "execution_count": null,
      "outputs": [
        {
          "output_type": "execute_result",
          "data": {
            "text/html": [
              "<div>\n",
              "<style scoped>\n",
              "    .dataframe tbody tr th:only-of-type {\n",
              "        vertical-align: middle;\n",
              "    }\n",
              "\n",
              "    .dataframe tbody tr th {\n",
              "        vertical-align: top;\n",
              "    }\n",
              "\n",
              "    .dataframe thead th {\n",
              "        text-align: right;\n",
              "    }\n",
              "</style>\n",
              "<table border=\"1\" class=\"dataframe\">\n",
              "  <thead>\n",
              "    <tr style=\"text-align: right;\">\n",
              "      <th></th>\n",
              "      <th>0</th>\n",
              "      <th>1467810369</th>\n",
              "      <th>Mon Apr 06 22:19:45 PDT 2009</th>\n",
              "      <th>NO_QUERY</th>\n",
              "      <th>_TheSpecialOne_</th>\n",
              "      <th>@switchfoot http://twitpic.com/2y1zl - Awww, that's a bummer.  You shoulda got David Carr of Third Day to do it. ;D</th>\n",
              "    </tr>\n",
              "  </thead>\n",
              "  <tbody>\n",
              "    <tr>\n",
              "      <th>0</th>\n",
              "      <td>0</td>\n",
              "      <td>1467810672</td>\n",
              "      <td>Mon Apr 06 22:19:49 PDT 2009</td>\n",
              "      <td>NO_QUERY</td>\n",
              "      <td>scotthamilton</td>\n",
              "      <td>is upset that he can't update his Facebook by ...</td>\n",
              "    </tr>\n",
              "    <tr>\n",
              "      <th>1</th>\n",
              "      <td>0</td>\n",
              "      <td>1467810917</td>\n",
              "      <td>Mon Apr 06 22:19:53 PDT 2009</td>\n",
              "      <td>NO_QUERY</td>\n",
              "      <td>mattycus</td>\n",
              "      <td>@Kenichan I dived many times for the ball. Man...</td>\n",
              "    </tr>\n",
              "    <tr>\n",
              "      <th>2</th>\n",
              "      <td>0</td>\n",
              "      <td>1467811184</td>\n",
              "      <td>Mon Apr 06 22:19:57 PDT 2009</td>\n",
              "      <td>NO_QUERY</td>\n",
              "      <td>ElleCTF</td>\n",
              "      <td>my whole body feels itchy and like its on fire</td>\n",
              "    </tr>\n",
              "    <tr>\n",
              "      <th>3</th>\n",
              "      <td>0</td>\n",
              "      <td>1467811193</td>\n",
              "      <td>Mon Apr 06 22:19:57 PDT 2009</td>\n",
              "      <td>NO_QUERY</td>\n",
              "      <td>Karoli</td>\n",
              "      <td>@nationwideclass no, it's not behaving at all....</td>\n",
              "    </tr>\n",
              "    <tr>\n",
              "      <th>4</th>\n",
              "      <td>0</td>\n",
              "      <td>1467811372</td>\n",
              "      <td>Mon Apr 06 22:20:00 PDT 2009</td>\n",
              "      <td>NO_QUERY</td>\n",
              "      <td>joy_wolf</td>\n",
              "      <td>@Kwesidei not the whole crew</td>\n",
              "    </tr>\n",
              "  </tbody>\n",
              "</table>\n",
              "</div>"
            ],
            "text/plain": [
              "   0  ...  @switchfoot http://twitpic.com/2y1zl - Awww, that's a bummer.  You shoulda got David Carr of Third Day to do it. ;D\n",
              "0  0  ...  is upset that he can't update his Facebook by ...                                                                  \n",
              "1  0  ...  @Kenichan I dived many times for the ball. Man...                                                                  \n",
              "2  0  ...    my whole body feels itchy and like its on fire                                                                   \n",
              "3  0  ...  @nationwideclass no, it's not behaving at all....                                                                  \n",
              "4  0  ...                      @Kwesidei not the whole crew                                                                   \n",
              "\n",
              "[5 rows x 6 columns]"
            ]
          },
          "metadata": {
            "tags": []
          },
          "execution_count": 7
        }
      ]
    },
    {
      "cell_type": "code",
      "metadata": {
        "id": "plpMFGctP2gL",
        "colab": {
          "base_uri": "https://localhost:8080/"
        },
        "outputId": "28ed2f07-c0c4-44a2-bc02-92888866f3e0"
      },
      "source": [
        "Y_train.unique()"
      ],
      "execution_count": null,
      "outputs": [
        {
          "output_type": "execute_result",
          "data": {
            "text/plain": [
              "array([0, 4])"
            ]
          },
          "metadata": {
            "tags": []
          },
          "execution_count": 8
        }
      ]
    },
    {
      "cell_type": "code",
      "metadata": {
        "id": "neLeuSzcP2gM",
        "colab": {
          "base_uri": "https://localhost:8080/"
        },
        "outputId": "779d04a1-04e6-4a05-bbf0-33ff615ee0c4"
      },
      "source": [
        "X_train.head()"
      ],
      "execution_count": null,
      "outputs": [
        {
          "output_type": "execute_result",
          "data": {
            "text/plain": [
              "0    is upset that he can't update his Facebook by ...\n",
              "1    @Kenichan I dived many times for the ball. Man...\n",
              "2      my whole body feels itchy and like its on fire \n",
              "3    @nationwideclass no, it's not behaving at all....\n",
              "4                        @Kwesidei not the whole crew \n",
              "Name: @switchfoot http://twitpic.com/2y1zl - Awww, that's a bummer.  You shoulda got David Carr of Third Day to do it. ;D, dtype: object"
            ]
          },
          "metadata": {
            "tags": []
          },
          "execution_count": 9
        }
      ]
    },
    {
      "cell_type": "code",
      "metadata": {
        "id": "aIgIWNloP2gM"
      },
      "source": [
        "# split the data into test and train\n",
        "from sklearn.model_selection import train_test_split\n",
        "trainset1x, trainset2x, trainset1y, trainset2y = train_test_split(X_train.values, Y_train.values, test_size=0.02,random_state=42 )\n",
        "trainset2y=pd.get_dummies(trainset2y)"
      ],
      "execution_count": null,
      "outputs": []
    },
    {
      "cell_type": "code",
      "metadata": {
        "id": "OVPEMjhiP2gM",
        "colab": {
          "base_uri": "https://localhost:8080/",
          "height": 359
        },
        "outputId": "1c2f35eb-7468-48a9-af4d-05b65467d543"
      },
      "source": [
        "trainset2y.head(10)"
      ],
      "execution_count": null,
      "outputs": [
        {
          "output_type": "execute_result",
          "data": {
            "text/html": [
              "<div>\n",
              "<style scoped>\n",
              "    .dataframe tbody tr th:only-of-type {\n",
              "        vertical-align: middle;\n",
              "    }\n",
              "\n",
              "    .dataframe tbody tr th {\n",
              "        vertical-align: top;\n",
              "    }\n",
              "\n",
              "    .dataframe thead th {\n",
              "        text-align: right;\n",
              "    }\n",
              "</style>\n",
              "<table border=\"1\" class=\"dataframe\">\n",
              "  <thead>\n",
              "    <tr style=\"text-align: right;\">\n",
              "      <th></th>\n",
              "      <th>0</th>\n",
              "      <th>4</th>\n",
              "    </tr>\n",
              "  </thead>\n",
              "  <tbody>\n",
              "    <tr>\n",
              "      <th>0</th>\n",
              "      <td>0</td>\n",
              "      <td>1</td>\n",
              "    </tr>\n",
              "    <tr>\n",
              "      <th>1</th>\n",
              "      <td>1</td>\n",
              "      <td>0</td>\n",
              "    </tr>\n",
              "    <tr>\n",
              "      <th>2</th>\n",
              "      <td>1</td>\n",
              "      <td>0</td>\n",
              "    </tr>\n",
              "    <tr>\n",
              "      <th>3</th>\n",
              "      <td>1</td>\n",
              "      <td>0</td>\n",
              "    </tr>\n",
              "    <tr>\n",
              "      <th>4</th>\n",
              "      <td>0</td>\n",
              "      <td>1</td>\n",
              "    </tr>\n",
              "    <tr>\n",
              "      <th>5</th>\n",
              "      <td>0</td>\n",
              "      <td>1</td>\n",
              "    </tr>\n",
              "    <tr>\n",
              "      <th>6</th>\n",
              "      <td>0</td>\n",
              "      <td>1</td>\n",
              "    </tr>\n",
              "    <tr>\n",
              "      <th>7</th>\n",
              "      <td>1</td>\n",
              "      <td>0</td>\n",
              "    </tr>\n",
              "    <tr>\n",
              "      <th>8</th>\n",
              "      <td>0</td>\n",
              "      <td>1</td>\n",
              "    </tr>\n",
              "    <tr>\n",
              "      <th>9</th>\n",
              "      <td>1</td>\n",
              "      <td>0</td>\n",
              "    </tr>\n",
              "  </tbody>\n",
              "</table>\n",
              "</div>"
            ],
            "text/plain": [
              "   0  4\n",
              "0  0  1\n",
              "1  1  0\n",
              "2  1  0\n",
              "3  1  0\n",
              "4  0  1\n",
              "5  0  1\n",
              "6  0  1\n",
              "7  1  0\n",
              "8  0  1\n",
              "9  1  0"
            ]
          },
          "metadata": {
            "tags": []
          },
          "execution_count": 11
        }
      ]
    },
    {
      "cell_type": "code",
      "metadata": {
        "id": "B-C17lAuP2gM"
      },
      "source": [
        "# function to remove stopwords\n",
        "def stopwords(sentence):\n",
        "    \n",
        "    new=[]\n",
        "    sentence=nlp(sentence)\n",
        "    \n",
        "    for w in sentence:\n",
        "        if (w.is_stop == False) & (w.pos_ !=\"PUNCT\"):\n",
        "            new.append(w.string.strip())\n",
        "        c=\" \".join(str(x) for x in new)\n",
        "    return c"
      ],
      "execution_count": null,
      "outputs": []
    },
    {
      "cell_type": "code",
      "metadata": {
        "id": "EGJXGekTP2gM",
        "colab": {
          "base_uri": "https://localhost:8080/",
          "height": 231
        },
        "outputId": "670fc2cc-4e0b-4e8e-f22b-0bcff504a626"
      },
      "source": [
        "new=[]\n",
        "sentence=nlp(sentence)\n",
        "    \n",
        "for w in sentence:\n",
        "    if (w.is_stop == False) & (w.pos_ !=\"PUNCT\"):\n",
        "        new.append(w.string.strip())\n",
        "        c=\" \".join(str(x) for x in new)\n",
        "return c"
      ],
      "execution_count": null,
      "outputs": [
        {
          "output_type": "error",
          "ename": "NameError",
          "evalue": "ignored",
          "traceback": [
            "\u001b[0;31m---------------------------------------------------------------------------\u001b[0m",
            "\u001b[0;31mNameError\u001b[0m                                 Traceback (most recent call last)",
            "\u001b[0;32m<ipython-input-13-c29cc3b600be>\u001b[0m in \u001b[0;36m<module>\u001b[0;34m()\u001b[0m\n\u001b[1;32m      1\u001b[0m \u001b[0mnew\u001b[0m\u001b[0;34m=\u001b[0m\u001b[0;34m[\u001b[0m\u001b[0;34m]\u001b[0m\u001b[0;34m\u001b[0m\u001b[0;34m\u001b[0m\u001b[0m\n\u001b[0;32m----> 2\u001b[0;31m \u001b[0msentence\u001b[0m\u001b[0;34m=\u001b[0m\u001b[0mnlp\u001b[0m\u001b[0;34m(\u001b[0m\u001b[0msentence\u001b[0m\u001b[0;34m)\u001b[0m\u001b[0;34m\u001b[0m\u001b[0;34m\u001b[0m\u001b[0m\n\u001b[0m\u001b[1;32m      3\u001b[0m \u001b[0;34m\u001b[0m\u001b[0m\n\u001b[1;32m      4\u001b[0m \u001b[0;32mfor\u001b[0m \u001b[0mw\u001b[0m \u001b[0;32min\u001b[0m \u001b[0msentence\u001b[0m\u001b[0;34m:\u001b[0m\u001b[0;34m\u001b[0m\u001b[0;34m\u001b[0m\u001b[0m\n\u001b[1;32m      5\u001b[0m     \u001b[0;32mif\u001b[0m \u001b[0;34m(\u001b[0m\u001b[0mw\u001b[0m\u001b[0;34m.\u001b[0m\u001b[0mis_stop\u001b[0m \u001b[0;34m==\u001b[0m \u001b[0;32mFalse\u001b[0m\u001b[0;34m)\u001b[0m \u001b[0;34m&\u001b[0m \u001b[0;34m(\u001b[0m\u001b[0mw\u001b[0m\u001b[0;34m.\u001b[0m\u001b[0mpos_\u001b[0m \u001b[0;34m!=\u001b[0m\u001b[0;34m\"PUNCT\"\u001b[0m\u001b[0;34m)\u001b[0m\u001b[0;34m:\u001b[0m\u001b[0;34m\u001b[0m\u001b[0;34m\u001b[0m\u001b[0m\n",
            "\u001b[0;31mNameError\u001b[0m: name 'sentence' is not defined"
          ]
        }
      ]
    },
    {
      "cell_type": "code",
      "metadata": {
        "id": "uOyUmtPOP2gM"
      },
      "source": [
        "# function to lemmatize the tweets\n",
        "def lemmatize(sentence):\n",
        "    sentence=nlp(sentence)\n",
        "    str=\"\"\n",
        "    for w in sentence:\n",
        "        str+=\" \"+w.lemma_\n",
        "    return nlp(str)"
      ],
      "execution_count": null,
      "outputs": []
    },
    {
      "cell_type": "code",
      "metadata": {
        "id": "eT2phVyKP2gM"
      },
      "source": [
        "#loading the glove model\n",
        "def loadGloveModel(gloveFile):\n",
        "    print(\"Loading Glove Model\")\n",
        "    f = open(gloveFile,'r',encoding='utf-8',errors='ignore')\n",
        "    model = {}\n",
        "    for line in f:\n",
        "        splitLine = line.split()\n",
        "        word = splitLine[0]\n",
        "        embedding = [float(val) for val in splitLine[1:]]\n",
        "        model[word] = embedding\n",
        "    print (\"Done.\"),len(model),(\" words loaded!\")\n",
        "    return model"
      ],
      "execution_count": null,
      "outputs": []
    },
    {
      "cell_type": "code",
      "metadata": {
        "id": "3oOL9E9gRZLn"
      },
      "source": [
        ""
      ],
      "execution_count": null,
      "outputs": []
    },
    {
      "cell_type": "code",
      "metadata": {
        "id": "OxwfEod4P2gM",
        "colab": {
          "base_uri": "https://localhost:8080/"
        },
        "outputId": "ca3b5ef5-d2f6-40a1-e625-91d74706bcce"
      },
      "source": [
        "model=loadGloveModel('/content/drive/MyDrive/NLP-Natural-Language-Processing-Methods/New folder/glove.twitter.27B.50d.txt')\n",
        "#gloveFile = 'E:/pre-trained word vectors/glove.twitter.27B.200d.txt'\n",
        "#use pre-trained word vectors\n",
        "#https://github.com/3Top/word2vec-api#where-to-get-a-pretrained-models\n"
      ],
      "execution_count": null,
      "outputs": [
        {
          "output_type": "stream",
          "text": [
            "Loading Glove Model\n",
            "Done.\n"
          ],
          "name": "stdout"
        }
      ]
    },
    {
      "cell_type": "code",
      "metadata": {
        "id": "BnW5wnj_P2gN",
        "colab": {
          "base_uri": "https://localhost:8080/"
        },
        "outputId": "a403b2dd-21a6-40c6-9dce-aebd1ab0e9ae"
      },
      "source": [
        "print (len(model))"
      ],
      "execution_count": null,
      "outputs": [
        {
          "output_type": "stream",
          "text": [
            "1193514\n"
          ],
          "name": "stdout"
        }
      ]
    },
    {
      "cell_type": "code",
      "metadata": {
        "id": "AaE-QowhLeDr"
      },
      "source": [
        "#vectorising the sentences\n",
        "def sent_vectorizer(sent, model):\n",
        "    sent_vec = np.zeros(200)\n",
        "    numw = 0\n",
        "    for w in sent.split():\n",
        "        try:\n",
        "            sent_vec = np.add(sent_vec, model[str(w)])\n",
        "            numw+=1\n",
        "        except:\n",
        "            pass\n",
        "    return sent_vec\n"
      ],
      "execution_count": null,
      "outputs": []
    },
    {
      "cell_type": "code",
      "metadata": {
        "id": "v3halKbHLkuV"
      },
      "source": [
        "#obtain a clean vector\n",
        "cleanvector=[]\n",
        "for i in range(trainset2x.shape[0]):\n",
        "    document=trainset2x[i]\n",
        "    document=document.lower()\n",
        "    document=lemmatize(document)\n",
        "    document=str(document)\n",
        "    cleanvector.append(sent_vectorizer(document,model))\n"
      ],
      "execution_count": null,
      "outputs": []
    },
    {
      "cell_type": "code",
      "metadata": {
        "colab": {
          "base_uri": "https://localhost:8080/"
        },
        "id": "uMcJ4wz5LpTB",
        "outputId": "3dae5f6e-66d1-421b-ddee-ff37cb4bc653"
      },
      "source": [
        "#Getting the input and output in proper shape\n",
        "cleanvector=np.array(cleanvector)\n",
        "\n",
        "cleanvector"
      ],
      "execution_count": null,
      "outputs": [
        {
          "output_type": "execute_result",
          "data": {
            "text/plain": [
              "array([[0., 0., 0., ..., 0., 0., 0.],\n",
              "       [0., 0., 0., ..., 0., 0., 0.],\n",
              "       [0., 0., 0., ..., 0., 0., 0.],\n",
              "       ...,\n",
              "       [0., 0., 0., ..., 0., 0., 0.],\n",
              "       [0., 0., 0., ..., 0., 0., 0.],\n",
              "       [0., 0., 0., ..., 0., 0., 0.]])"
            ]
          },
          "metadata": {
            "tags": []
          },
          "execution_count": 33
        }
      ]
    },
    {
      "cell_type": "code",
      "metadata": {
        "id": "hQJFEwF5L-Q7"
      },
      "source": [
        "cleanvector =cleanvector.reshape(len(cleanvector),200,1)"
      ],
      "execution_count": null,
      "outputs": []
    },
    {
      "cell_type": "code",
      "metadata": {
        "colab": {
          "base_uri": "https://localhost:8080/"
        },
        "id": "mqmsZg28MD-I",
        "outputId": "1f991d6d-992e-4656-fd8a-8624a2d981ba"
      },
      "source": [
        "cleanvector "
      ],
      "execution_count": null,
      "outputs": [
        {
          "output_type": "execute_result",
          "data": {
            "text/plain": [
              "array([[[0.],\n",
              "        [0.],\n",
              "        [0.],\n",
              "        ...,\n",
              "        [0.],\n",
              "        [0.],\n",
              "        [0.]],\n",
              "\n",
              "       [[0.],\n",
              "        [0.],\n",
              "        [0.],\n",
              "        ...,\n",
              "        [0.],\n",
              "        [0.],\n",
              "        [0.]],\n",
              "\n",
              "       [[0.],\n",
              "        [0.],\n",
              "        [0.],\n",
              "        ...,\n",
              "        [0.],\n",
              "        [0.],\n",
              "        [0.]],\n",
              "\n",
              "       ...,\n",
              "\n",
              "       [[0.],\n",
              "        [0.],\n",
              "        [0.],\n",
              "        ...,\n",
              "        [0.],\n",
              "        [0.],\n",
              "        [0.]],\n",
              "\n",
              "       [[0.],\n",
              "        [0.],\n",
              "        [0.],\n",
              "        ...,\n",
              "        [0.],\n",
              "        [0.],\n",
              "        [0.]],\n",
              "\n",
              "       [[0.],\n",
              "        [0.],\n",
              "        [0.],\n",
              "        ...,\n",
              "        [0.],\n",
              "        [0.],\n",
              "        [0.]]])"
            ]
          },
          "metadata": {
            "tags": []
          },
          "execution_count": 35
        }
      ]
    },
    {
      "cell_type": "code",
      "metadata": {
        "colab": {
          "base_uri": "https://localhost:8080/"
        },
        "id": "MtwvezYAMO7v",
        "outputId": "dbfbd1ef-3e98-4508-a50e-eb90753294c0"
      },
      "source": [
        "#tokenizing the sequences\n",
        "tokenizer = Tokenizer(num_words=16000)\n",
        "tokenizer.fit_on_texts(trainset2x)\n",
        "sequences = tokenizer.texts_to_sequences(trainset2x)\n",
        "word_index = tokenizer.word_index\n",
        "print('Found %s unique tokens.' % len(word_index))\n",
        "data = pad_sequences(sequences, maxlen=15, padding=\"post\")\n",
        "print(data.shape)"
      ],
      "execution_count": null,
      "outputs": [
        {
          "output_type": "stream",
          "text": [
            "Found 1873 unique tokens.\n",
            "(400, 15)\n"
          ],
          "name": "stdout"
        }
      ]
    },
    {
      "cell_type": "code",
      "metadata": {
        "id": "HbDwNxJWMWYV"
      },
      "source": [
        "#reshape the data and preparing to train\n",
        "data=data.reshape(len(cleanvector),15,1)\n",
        "from sklearn.model_selection import train_test_split\n",
        "trainx, validx, trainy, validy = train_test_split(data, trainset2y, test_size=0.3,random_state=42 )"
      ],
      "execution_count": null,
      "outputs": []
    },
    {
      "cell_type": "code",
      "metadata": {
        "id": "pHR2KqNfMa7L"
      },
      "source": [
        "#calculate the number of words\n",
        "nb_words=len(tokenizer.word_index)+1"
      ],
      "execution_count": null,
      "outputs": []
    },
    {
      "cell_type": "code",
      "metadata": {
        "colab": {
          "base_uri": "https://localhost:8080/"
        },
        "id": "nMqxyhheMfPw",
        "outputId": "19870a45-76cd-43a2-94ea-9a2cc15c22c2"
      },
      "source": [
        "#obtain theembedding matrix\n",
        "embedding_matrix = np.zeros((nb_words, 50))\n",
        "for word, i in word_index.items():\n",
        "    embedding_vector = model.get(word)\n",
        "    if embedding_vector is not None:\n",
        "        embedding_matrix[i] = embedding_vector\n",
        "print('Null word embeddings: %d' % np.sum(np.sum(embedding_matrix, axis=1) == 0))"
      ],
      "execution_count": null,
      "outputs": [
        {
          "output_type": "stream",
          "text": [
            "Null word embeddings: 346\n"
          ],
          "name": "stdout"
        }
      ]
    },
    {
      "cell_type": "code",
      "metadata": {
        "id": "iFRkmNnEMrPT"
      },
      "source": [
        "trainy=np.array(trainy)\n",
        "validy=np.array(validy)"
      ],
      "execution_count": null,
      "outputs": []
    },
    {
      "cell_type": "code",
      "metadata": {
        "id": "MipaUPQXMths"
      },
      "source": [
        "#building a simple RNN model\n",
        "def modelbuild():\n",
        "    model = Sequential()\n",
        "    model.add(keras.layers.InputLayer(input_shape=(15,1)))\n",
        "    keras.layers.embeddings.Embedding(nb_words, 15, weights=[embedding_matrix], input_length=15,\n",
        "    trainable=False)\n",
        " \n",
        "    model.add(keras.layers.recurrent.SimpleRNN(units = 100, activation='relu',\n",
        "    use_bias=True))\n",
        "    model.add(keras.layers.Dense(units=1000, input_dim = 2000, activation='sigmoid'))\n",
        "    model.add(keras.layers.Dense(units=500, input_dim=1000, activation='relu'))\n",
        "    model.add(keras.layers.Dense(units=2, input_dim=500,activation='softmax'))\n",
        "    model.compile(loss='categorical_crossentropy', optimizer='adam', metrics=['accuracy'])\n",
        "    return model"
      ],
      "execution_count": null,
      "outputs": []
    },
    {
      "cell_type": "code",
      "metadata": {
        "colab": {
          "base_uri": "https://localhost:8080/"
        },
        "id": "QpTU_NmFMxjR",
        "outputId": "02509436-b836-4388-fcf0-8d8c27f2d3c9"
      },
      "source": [
        "#compiling the model\n",
        "finalmodel = modelbuild()\n",
        "finalmodel.fit(trainx, trainy, epochs=300, batch_size=64,validation_data=(validx,validy),)"
      ],
      "execution_count": null,
      "outputs": [
        {
          "output_type": "stream",
          "text": [
            "Epoch 1/300\n",
            "5/5 [==============================] - 0s 48ms/step - loss: 2.2155 - accuracy: 0.5357 - val_loss: 1.5015 - val_accuracy: 0.4917\n",
            "Epoch 2/300\n",
            "5/5 [==============================] - 0s 12ms/step - loss: 1.2767 - accuracy: 0.4643 - val_loss: 0.8950 - val_accuracy: 0.5000\n",
            "Epoch 3/300\n",
            "5/5 [==============================] - 0s 11ms/step - loss: 0.8700 - accuracy: 0.5357 - val_loss: 0.7420 - val_accuracy: 0.4917\n",
            "Epoch 4/300\n",
            "5/5 [==============================] - 0s 12ms/step - loss: 0.6620 - accuracy: 0.5821 - val_loss: 0.7745 - val_accuracy: 0.5167\n",
            "Epoch 5/300\n",
            "5/5 [==============================] - 0s 12ms/step - loss: 0.6792 - accuracy: 0.5500 - val_loss: 0.7306 - val_accuracy: 0.5083\n",
            "Epoch 6/300\n",
            "5/5 [==============================] - 0s 13ms/step - loss: 0.6563 - accuracy: 0.5786 - val_loss: 0.7323 - val_accuracy: 0.4833\n",
            "Epoch 7/300\n",
            "5/5 [==============================] - 0s 13ms/step - loss: 0.6154 - accuracy: 0.6964 - val_loss: 0.7442 - val_accuracy: 0.5500\n",
            "Epoch 8/300\n",
            "5/5 [==============================] - 0s 12ms/step - loss: 0.5970 - accuracy: 0.7071 - val_loss: 0.7474 - val_accuracy: 0.4833\n",
            "Epoch 9/300\n",
            "5/5 [==============================] - 0s 12ms/step - loss: 0.5905 - accuracy: 0.6714 - val_loss: 0.7544 - val_accuracy: 0.4917\n",
            "Epoch 10/300\n",
            "5/5 [==============================] - 0s 12ms/step - loss: 0.5695 - accuracy: 0.7321 - val_loss: 0.7565 - val_accuracy: 0.5333\n",
            "Epoch 11/300\n",
            "5/5 [==============================] - 0s 12ms/step - loss: 0.5413 - accuracy: 0.7286 - val_loss: 0.7698 - val_accuracy: 0.4917\n",
            "Epoch 12/300\n",
            "5/5 [==============================] - 0s 12ms/step - loss: 0.5303 - accuracy: 0.7679 - val_loss: 0.7645 - val_accuracy: 0.5583\n",
            "Epoch 13/300\n",
            "5/5 [==============================] - 0s 12ms/step - loss: 0.5052 - accuracy: 0.7857 - val_loss: 0.7783 - val_accuracy: 0.4917\n",
            "Epoch 14/300\n",
            "5/5 [==============================] - 0s 12ms/step - loss: 0.4801 - accuracy: 0.8143 - val_loss: 0.8054 - val_accuracy: 0.5000\n",
            "Epoch 15/300\n",
            "5/5 [==============================] - 0s 12ms/step - loss: 0.4625 - accuracy: 0.7786 - val_loss: 0.8039 - val_accuracy: 0.5500\n",
            "Epoch 16/300\n",
            "5/5 [==============================] - 0s 12ms/step - loss: 0.4330 - accuracy: 0.8357 - val_loss: 0.8310 - val_accuracy: 0.5333\n",
            "Epoch 17/300\n",
            "5/5 [==============================] - 0s 13ms/step - loss: 0.4335 - accuracy: 0.8286 - val_loss: 0.8760 - val_accuracy: 0.5250\n",
            "Epoch 18/300\n",
            "5/5 [==============================] - 0s 16ms/step - loss: 0.4273 - accuracy: 0.8071 - val_loss: 0.9121 - val_accuracy: 0.5500\n",
            "Epoch 19/300\n",
            "5/5 [==============================] - 0s 16ms/step - loss: 0.4460 - accuracy: 0.7643 - val_loss: 0.9011 - val_accuracy: 0.5250\n",
            "Epoch 20/300\n",
            "5/5 [==============================] - 0s 13ms/step - loss: 0.3806 - accuracy: 0.8250 - val_loss: 0.8884 - val_accuracy: 0.5583\n",
            "Epoch 21/300\n",
            "5/5 [==============================] - 0s 11ms/step - loss: 0.3486 - accuracy: 0.8357 - val_loss: 0.9165 - val_accuracy: 0.5250\n",
            "Epoch 22/300\n",
            "5/5 [==============================] - 0s 12ms/step - loss: 0.3365 - accuracy: 0.8750 - val_loss: 0.9282 - val_accuracy: 0.5833\n",
            "Epoch 23/300\n",
            "5/5 [==============================] - 0s 12ms/step - loss: 0.3311 - accuracy: 0.8393 - val_loss: 0.9991 - val_accuracy: 0.5750\n",
            "Epoch 24/300\n",
            "5/5 [==============================] - 0s 12ms/step - loss: 0.3208 - accuracy: 0.8643 - val_loss: 0.9837 - val_accuracy: 0.5083\n",
            "Epoch 25/300\n",
            "5/5 [==============================] - 0s 12ms/step - loss: 0.2876 - accuracy: 0.8750 - val_loss: 1.1148 - val_accuracy: 0.5583\n",
            "Epoch 26/300\n",
            "5/5 [==============================] - 0s 11ms/step - loss: 0.2992 - accuracy: 0.8750 - val_loss: 1.1005 - val_accuracy: 0.5250\n",
            "Epoch 27/300\n",
            "5/5 [==============================] - 0s 12ms/step - loss: 0.2416 - accuracy: 0.9000 - val_loss: 1.1807 - val_accuracy: 0.5667\n",
            "Epoch 28/300\n",
            "5/5 [==============================] - 0s 13ms/step - loss: 0.2318 - accuracy: 0.9036 - val_loss: 1.1777 - val_accuracy: 0.5167\n",
            "Epoch 29/300\n",
            "5/5 [==============================] - 0s 12ms/step - loss: 0.2310 - accuracy: 0.8964 - val_loss: 1.3399 - val_accuracy: 0.5583\n",
            "Epoch 30/300\n",
            "5/5 [==============================] - 0s 12ms/step - loss: 0.2374 - accuracy: 0.9036 - val_loss: 1.2242 - val_accuracy: 0.5500\n",
            "Epoch 31/300\n",
            "5/5 [==============================] - 0s 12ms/step - loss: 0.2020 - accuracy: 0.9179 - val_loss: 1.3983 - val_accuracy: 0.5417\n",
            "Epoch 32/300\n",
            "5/5 [==============================] - 0s 16ms/step - loss: 0.2334 - accuracy: 0.9036 - val_loss: 1.3034 - val_accuracy: 0.5417\n",
            "Epoch 33/300\n",
            "5/5 [==============================] - 0s 12ms/step - loss: 0.2516 - accuracy: 0.8821 - val_loss: 1.2119 - val_accuracy: 0.6000\n",
            "Epoch 34/300\n",
            "5/5 [==============================] - 0s 12ms/step - loss: 0.2082 - accuracy: 0.9000 - val_loss: 1.3232 - val_accuracy: 0.5417\n",
            "Epoch 35/300\n",
            "5/5 [==============================] - 0s 12ms/step - loss: 0.2015 - accuracy: 0.9107 - val_loss: 1.4061 - val_accuracy: 0.5583\n",
            "Epoch 36/300\n",
            "5/5 [==============================] - 0s 13ms/step - loss: 0.2158 - accuracy: 0.8964 - val_loss: 1.4642 - val_accuracy: 0.5750\n",
            "Epoch 37/300\n",
            "5/5 [==============================] - 0s 12ms/step - loss: 0.2179 - accuracy: 0.9179 - val_loss: 1.4876 - val_accuracy: 0.5833\n",
            "Epoch 38/300\n",
            "5/5 [==============================] - 0s 11ms/step - loss: 0.2092 - accuracy: 0.9214 - val_loss: 1.4912 - val_accuracy: 0.5083\n",
            "Epoch 39/300\n",
            "5/5 [==============================] - 0s 12ms/step - loss: 0.2479 - accuracy: 0.8857 - val_loss: 1.5635 - val_accuracy: 0.5667\n",
            "Epoch 40/300\n",
            "5/5 [==============================] - 0s 13ms/step - loss: 0.2075 - accuracy: 0.9036 - val_loss: 1.3025 - val_accuracy: 0.5667\n",
            "Epoch 41/300\n",
            "5/5 [==============================] - 0s 12ms/step - loss: 0.2541 - accuracy: 0.8821 - val_loss: 1.3972 - val_accuracy: 0.5667\n",
            "Epoch 42/300\n",
            "5/5 [==============================] - 0s 12ms/step - loss: 0.2039 - accuracy: 0.9071 - val_loss: 1.4661 - val_accuracy: 0.5667\n",
            "Epoch 43/300\n",
            "5/5 [==============================] - 0s 13ms/step - loss: 0.1961 - accuracy: 0.9107 - val_loss: 1.5437 - val_accuracy: 0.5833\n",
            "Epoch 44/300\n",
            "5/5 [==============================] - 0s 12ms/step - loss: 0.1849 - accuracy: 0.9107 - val_loss: 1.5956 - val_accuracy: 0.5667\n",
            "Epoch 45/300\n",
            "5/5 [==============================] - 0s 13ms/step - loss: 0.1730 - accuracy: 0.9214 - val_loss: 1.6442 - val_accuracy: 0.5833\n",
            "Epoch 46/300\n",
            "5/5 [==============================] - 0s 15ms/step - loss: 0.1400 - accuracy: 0.9500 - val_loss: 1.7597 - val_accuracy: 0.5750\n",
            "Epoch 47/300\n",
            "5/5 [==============================] - 0s 17ms/step - loss: 0.1520 - accuracy: 0.9250 - val_loss: 1.7568 - val_accuracy: 0.6000\n",
            "Epoch 48/300\n",
            "5/5 [==============================] - 0s 16ms/step - loss: 0.1254 - accuracy: 0.9393 - val_loss: 1.7948 - val_accuracy: 0.5833\n",
            "Epoch 49/300\n",
            "5/5 [==============================] - 0s 16ms/step - loss: 0.1216 - accuracy: 0.9429 - val_loss: 1.7734 - val_accuracy: 0.5833\n",
            "Epoch 50/300\n",
            "5/5 [==============================] - 0s 15ms/step - loss: 0.1221 - accuracy: 0.9607 - val_loss: 1.9596 - val_accuracy: 0.5667\n",
            "Epoch 51/300\n",
            "5/5 [==============================] - 0s 16ms/step - loss: 0.1808 - accuracy: 0.9357 - val_loss: 1.7034 - val_accuracy: 0.5333\n",
            "Epoch 52/300\n",
            "5/5 [==============================] - 0s 15ms/step - loss: 0.2139 - accuracy: 0.9250 - val_loss: 1.7231 - val_accuracy: 0.5417\n",
            "Epoch 53/300\n",
            "5/5 [==============================] - 0s 12ms/step - loss: 0.2451 - accuracy: 0.8750 - val_loss: 1.6925 - val_accuracy: 0.5917\n",
            "Epoch 54/300\n",
            "5/5 [==============================] - 0s 12ms/step - loss: 0.1850 - accuracy: 0.9214 - val_loss: 1.4314 - val_accuracy: 0.5833\n",
            "Epoch 55/300\n",
            "5/5 [==============================] - 0s 12ms/step - loss: 0.1527 - accuracy: 0.9321 - val_loss: 1.5787 - val_accuracy: 0.5583\n",
            "Epoch 56/300\n",
            "5/5 [==============================] - 0s 16ms/step - loss: 0.1726 - accuracy: 0.9321 - val_loss: 1.7620 - val_accuracy: 0.5667\n",
            "Epoch 57/300\n",
            "5/5 [==============================] - 0s 17ms/step - loss: 0.1593 - accuracy: 0.9143 - val_loss: 1.7006 - val_accuracy: 0.5500\n",
            "Epoch 58/300\n",
            "5/5 [==============================] - 0s 15ms/step - loss: 0.1669 - accuracy: 0.9250 - val_loss: 1.6810 - val_accuracy: 0.5250\n",
            "Epoch 59/300\n",
            "5/5 [==============================] - 0s 15ms/step - loss: 0.1660 - accuracy: 0.9179 - val_loss: 1.6800 - val_accuracy: 0.5417\n",
            "Epoch 60/300\n",
            "5/5 [==============================] - 0s 15ms/step - loss: 0.1825 - accuracy: 0.9214 - val_loss: 1.6963 - val_accuracy: 0.5500\n",
            "Epoch 61/300\n",
            "5/5 [==============================] - 0s 15ms/step - loss: 0.2385 - accuracy: 0.9000 - val_loss: 1.7970 - val_accuracy: 0.5750\n",
            "Epoch 62/300\n",
            "5/5 [==============================] - 0s 16ms/step - loss: 0.2196 - accuracy: 0.9321 - val_loss: 1.9278 - val_accuracy: 0.5417\n",
            "Epoch 63/300\n",
            "5/5 [==============================] - 0s 15ms/step - loss: 0.2701 - accuracy: 0.9036 - val_loss: 1.5162 - val_accuracy: 0.5833\n",
            "Epoch 64/300\n",
            "5/5 [==============================] - 0s 12ms/step - loss: 0.2041 - accuracy: 0.9107 - val_loss: 1.4458 - val_accuracy: 0.5833\n",
            "Epoch 65/300\n",
            "5/5 [==============================] - 0s 12ms/step - loss: 0.1994 - accuracy: 0.9214 - val_loss: 1.6158 - val_accuracy: 0.5750\n",
            "Epoch 66/300\n",
            "5/5 [==============================] - 0s 13ms/step - loss: 0.2198 - accuracy: 0.9179 - val_loss: 1.4588 - val_accuracy: 0.5917\n",
            "Epoch 67/300\n",
            "5/5 [==============================] - 0s 12ms/step - loss: 0.1922 - accuracy: 0.9179 - val_loss: 1.4338 - val_accuracy: 0.6000\n",
            "Epoch 68/300\n",
            "5/5 [==============================] - 0s 15ms/step - loss: 0.1750 - accuracy: 0.9429 - val_loss: 1.5589 - val_accuracy: 0.5417\n",
            "Epoch 69/300\n",
            "5/5 [==============================] - 0s 12ms/step - loss: 0.1502 - accuracy: 0.9357 - val_loss: 1.6293 - val_accuracy: 0.5583\n",
            "Epoch 70/300\n",
            "5/5 [==============================] - 0s 12ms/step - loss: 0.1294 - accuracy: 0.9429 - val_loss: 1.6527 - val_accuracy: 0.5833\n",
            "Epoch 71/300\n",
            "5/5 [==============================] - 0s 12ms/step - loss: 0.1203 - accuracy: 0.9393 - val_loss: 1.7829 - val_accuracy: 0.5500\n",
            "Epoch 72/300\n",
            "5/5 [==============================] - 0s 12ms/step - loss: 0.1281 - accuracy: 0.9286 - val_loss: 1.8456 - val_accuracy: 0.5667\n",
            "Epoch 73/300\n",
            "5/5 [==============================] - 0s 12ms/step - loss: 0.1408 - accuracy: 0.9321 - val_loss: 1.8334 - val_accuracy: 0.5417\n",
            "Epoch 74/300\n",
            "5/5 [==============================] - 0s 11ms/step - loss: 0.1313 - accuracy: 0.9393 - val_loss: 1.9273 - val_accuracy: 0.5333\n",
            "Epoch 75/300\n",
            "5/5 [==============================] - 0s 13ms/step - loss: 0.1122 - accuracy: 0.9393 - val_loss: 1.9749 - val_accuracy: 0.5667\n",
            "Epoch 76/300\n",
            "5/5 [==============================] - 0s 15ms/step - loss: 0.1155 - accuracy: 0.9393 - val_loss: 2.1029 - val_accuracy: 0.5583\n",
            "Epoch 77/300\n",
            "5/5 [==============================] - 0s 15ms/step - loss: 0.1119 - accuracy: 0.9464 - val_loss: 2.1239 - val_accuracy: 0.5667\n",
            "Epoch 78/300\n",
            "5/5 [==============================] - 0s 15ms/step - loss: 0.0959 - accuracy: 0.9500 - val_loss: 2.1315 - val_accuracy: 0.5500\n",
            "Epoch 79/300\n",
            "5/5 [==============================] - 0s 16ms/step - loss: 0.0882 - accuracy: 0.9571 - val_loss: 2.1590 - val_accuracy: 0.5417\n",
            "Epoch 80/300\n",
            "5/5 [==============================] - 0s 17ms/step - loss: 0.0949 - accuracy: 0.9536 - val_loss: 2.1647 - val_accuracy: 0.5417\n",
            "Epoch 81/300\n",
            "5/5 [==============================] - 0s 11ms/step - loss: 0.0877 - accuracy: 0.9714 - val_loss: 2.0790 - val_accuracy: 0.5583\n",
            "Epoch 82/300\n",
            "5/5 [==============================] - 0s 12ms/step - loss: 0.0854 - accuracy: 0.9643 - val_loss: 2.1766 - val_accuracy: 0.5500\n",
            "Epoch 83/300\n",
            "5/5 [==============================] - 0s 12ms/step - loss: 0.1495 - accuracy: 0.9464 - val_loss: 2.2123 - val_accuracy: 0.5667\n",
            "Epoch 84/300\n",
            "5/5 [==============================] - 0s 12ms/step - loss: 0.1052 - accuracy: 0.9643 - val_loss: 2.0218 - val_accuracy: 0.5917\n",
            "Epoch 85/300\n",
            "5/5 [==============================] - 0s 12ms/step - loss: 0.1162 - accuracy: 0.9714 - val_loss: 2.0126 - val_accuracy: 0.6083\n",
            "Epoch 86/300\n",
            "5/5 [==============================] - 0s 12ms/step - loss: 0.0859 - accuracy: 0.9643 - val_loss: 2.0705 - val_accuracy: 0.5750\n",
            "Epoch 87/300\n",
            "5/5 [==============================] - 0s 12ms/step - loss: 0.0739 - accuracy: 0.9786 - val_loss: 2.1115 - val_accuracy: 0.5667\n",
            "Epoch 88/300\n",
            "5/5 [==============================] - 0s 11ms/step - loss: 0.0711 - accuracy: 0.9750 - val_loss: 2.0979 - val_accuracy: 0.5833\n",
            "Epoch 89/300\n",
            "5/5 [==============================] - 0s 11ms/step - loss: 0.0713 - accuracy: 0.9750 - val_loss: 2.1045 - val_accuracy: 0.5833\n",
            "Epoch 90/300\n",
            "5/5 [==============================] - 0s 12ms/step - loss: 0.0651 - accuracy: 0.9821 - val_loss: 2.1660 - val_accuracy: 0.5833\n",
            "Epoch 91/300\n",
            "5/5 [==============================] - 0s 12ms/step - loss: 0.0655 - accuracy: 0.9714 - val_loss: 2.2248 - val_accuracy: 0.5417\n",
            "Epoch 92/300\n",
            "5/5 [==============================] - 0s 12ms/step - loss: 0.0699 - accuracy: 0.9714 - val_loss: 2.4130 - val_accuracy: 0.5667\n",
            "Epoch 93/300\n",
            "5/5 [==============================] - 0s 14ms/step - loss: 0.0848 - accuracy: 0.9643 - val_loss: 2.2818 - val_accuracy: 0.5667\n",
            "Epoch 94/300\n",
            "5/5 [==============================] - 0s 12ms/step - loss: 0.1806 - accuracy: 0.9429 - val_loss: 2.2144 - val_accuracy: 0.5667\n",
            "Epoch 95/300\n",
            "5/5 [==============================] - 0s 12ms/step - loss: 0.5037 - accuracy: 0.8536 - val_loss: 1.9992 - val_accuracy: 0.5000\n",
            "Epoch 96/300\n",
            "5/5 [==============================] - 0s 12ms/step - loss: 0.6680 - accuracy: 0.7500 - val_loss: 1.2110 - val_accuracy: 0.4833\n",
            "Epoch 97/300\n",
            "5/5 [==============================] - 0s 12ms/step - loss: 0.4504 - accuracy: 0.7857 - val_loss: 0.8898 - val_accuracy: 0.5250\n",
            "Epoch 98/300\n",
            "5/5 [==============================] - 0s 12ms/step - loss: 0.4044 - accuracy: 0.8107 - val_loss: 0.8878 - val_accuracy: 0.5500\n",
            "Epoch 99/300\n",
            "5/5 [==============================] - 0s 12ms/step - loss: 0.3635 - accuracy: 0.8500 - val_loss: 0.9971 - val_accuracy: 0.5417\n",
            "Epoch 100/300\n",
            "5/5 [==============================] - 0s 12ms/step - loss: 0.3284 - accuracy: 0.8571 - val_loss: 1.1108 - val_accuracy: 0.5833\n",
            "Epoch 101/300\n",
            "5/5 [==============================] - 0s 12ms/step - loss: 0.2639 - accuracy: 0.9143 - val_loss: 1.1966 - val_accuracy: 0.5500\n",
            "Epoch 102/300\n",
            "5/5 [==============================] - 0s 13ms/step - loss: 0.2291 - accuracy: 0.9179 - val_loss: 1.3074 - val_accuracy: 0.5833\n",
            "Epoch 103/300\n",
            "5/5 [==============================] - 0s 12ms/step - loss: 0.1963 - accuracy: 0.9321 - val_loss: 1.4876 - val_accuracy: 0.5667\n",
            "Epoch 104/300\n",
            "5/5 [==============================] - 0s 11ms/step - loss: 0.1983 - accuracy: 0.9036 - val_loss: 1.6396 - val_accuracy: 0.5167\n",
            "Epoch 105/300\n",
            "5/5 [==============================] - 0s 12ms/step - loss: 0.1860 - accuracy: 0.9179 - val_loss: 1.6178 - val_accuracy: 0.5333\n",
            "Epoch 106/300\n",
            "5/5 [==============================] - 0s 15ms/step - loss: 0.1640 - accuracy: 0.9357 - val_loss: 1.7472 - val_accuracy: 0.5333\n",
            "Epoch 107/300\n",
            "5/5 [==============================] - 0s 17ms/step - loss: 0.1379 - accuracy: 0.9464 - val_loss: 1.7563 - val_accuracy: 0.5500\n",
            "Epoch 108/300\n",
            "5/5 [==============================] - 0s 17ms/step - loss: 0.1434 - accuracy: 0.9500 - val_loss: 1.8380 - val_accuracy: 0.5750\n",
            "Epoch 109/300\n",
            "5/5 [==============================] - 0s 16ms/step - loss: 0.1201 - accuracy: 0.9500 - val_loss: 1.9228 - val_accuracy: 0.5083\n",
            "Epoch 110/300\n",
            "5/5 [==============================] - 0s 16ms/step - loss: 0.1136 - accuracy: 0.9679 - val_loss: 1.8564 - val_accuracy: 0.5333\n",
            "Epoch 111/300\n",
            "5/5 [==============================] - 0s 16ms/step - loss: 0.1092 - accuracy: 0.9571 - val_loss: 1.9038 - val_accuracy: 0.5417\n",
            "Epoch 112/300\n",
            "5/5 [==============================] - 0s 14ms/step - loss: 0.1016 - accuracy: 0.9643 - val_loss: 2.0094 - val_accuracy: 0.5417\n",
            "Epoch 113/300\n",
            "5/5 [==============================] - 0s 13ms/step - loss: 0.1026 - accuracy: 0.9571 - val_loss: 2.0396 - val_accuracy: 0.5417\n",
            "Epoch 114/300\n",
            "5/5 [==============================] - 0s 12ms/step - loss: 0.1029 - accuracy: 0.9607 - val_loss: 2.0010 - val_accuracy: 0.5417\n",
            "Epoch 115/300\n",
            "5/5 [==============================] - 0s 13ms/step - loss: 0.1173 - accuracy: 0.9464 - val_loss: 2.1001 - val_accuracy: 0.5833\n",
            "Epoch 116/300\n",
            "5/5 [==============================] - 0s 12ms/step - loss: 0.1090 - accuracy: 0.9643 - val_loss: 2.1655 - val_accuracy: 0.5167\n",
            "Epoch 117/300\n",
            "5/5 [==============================] - 0s 14ms/step - loss: 0.0896 - accuracy: 0.9500 - val_loss: 2.1229 - val_accuracy: 0.5667\n",
            "Epoch 118/300\n",
            "5/5 [==============================] - 0s 16ms/step - loss: 0.0913 - accuracy: 0.9536 - val_loss: 2.1743 - val_accuracy: 0.5750\n",
            "Epoch 119/300\n",
            "5/5 [==============================] - 0s 16ms/step - loss: 0.0981 - accuracy: 0.9571 - val_loss: 2.2108 - val_accuracy: 0.5583\n",
            "Epoch 120/300\n",
            "5/5 [==============================] - 0s 15ms/step - loss: 0.1064 - accuracy: 0.9464 - val_loss: 2.2106 - val_accuracy: 0.5667\n",
            "Epoch 121/300\n",
            "5/5 [==============================] - 0s 16ms/step - loss: 0.0916 - accuracy: 0.9536 - val_loss: 2.2092 - val_accuracy: 0.5500\n",
            "Epoch 122/300\n",
            "5/5 [==============================] - 0s 17ms/step - loss: 0.0878 - accuracy: 0.9679 - val_loss: 2.2206 - val_accuracy: 0.5500\n",
            "Epoch 123/300\n",
            "5/5 [==============================] - 0s 17ms/step - loss: 0.0786 - accuracy: 0.9643 - val_loss: 2.2472 - val_accuracy: 0.5583\n",
            "Epoch 124/300\n",
            "5/5 [==============================] - 0s 12ms/step - loss: 0.0749 - accuracy: 0.9679 - val_loss: 2.2459 - val_accuracy: 0.5667\n",
            "Epoch 125/300\n",
            "5/5 [==============================] - 0s 12ms/step - loss: 0.0698 - accuracy: 0.9714 - val_loss: 2.2004 - val_accuracy: 0.5917\n",
            "Epoch 126/300\n",
            "5/5 [==============================] - 0s 12ms/step - loss: 0.0803 - accuracy: 0.9607 - val_loss: 2.2895 - val_accuracy: 0.5833\n",
            "Epoch 127/300\n",
            "5/5 [==============================] - 0s 16ms/step - loss: 0.0692 - accuracy: 0.9679 - val_loss: 2.4254 - val_accuracy: 0.5583\n",
            "Epoch 128/300\n",
            "5/5 [==============================] - 0s 17ms/step - loss: 0.0884 - accuracy: 0.9571 - val_loss: 2.3934 - val_accuracy: 0.5667\n",
            "Epoch 129/300\n",
            "5/5 [==============================] - 0s 17ms/step - loss: 0.0787 - accuracy: 0.9714 - val_loss: 2.4388 - val_accuracy: 0.5500\n",
            "Epoch 130/300\n",
            "5/5 [==============================] - 0s 16ms/step - loss: 0.0837 - accuracy: 0.9714 - val_loss: 2.4699 - val_accuracy: 0.5583\n",
            "Epoch 131/300\n",
            "5/5 [==============================] - 0s 16ms/step - loss: 0.0829 - accuracy: 0.9607 - val_loss: 2.2808 - val_accuracy: 0.5583\n",
            "Epoch 132/300\n",
            "5/5 [==============================] - 0s 16ms/step - loss: 0.0806 - accuracy: 0.9643 - val_loss: 2.2959 - val_accuracy: 0.5667\n",
            "Epoch 133/300\n",
            "5/5 [==============================] - 0s 16ms/step - loss: 0.0716 - accuracy: 0.9714 - val_loss: 2.4548 - val_accuracy: 0.5667\n",
            "Epoch 134/300\n",
            "5/5 [==============================] - 0s 16ms/step - loss: 0.0870 - accuracy: 0.9607 - val_loss: 2.6215 - val_accuracy: 0.5417\n",
            "Epoch 135/300\n",
            "5/5 [==============================] - 0s 17ms/step - loss: 0.0824 - accuracy: 0.9679 - val_loss: 2.6694 - val_accuracy: 0.5417\n",
            "Epoch 136/300\n",
            "5/5 [==============================] - 0s 16ms/step - loss: 0.0767 - accuracy: 0.9679 - val_loss: 2.7297 - val_accuracy: 0.5250\n",
            "Epoch 137/300\n",
            "5/5 [==============================] - 0s 12ms/step - loss: 0.0702 - accuracy: 0.9750 - val_loss: 2.8089 - val_accuracy: 0.5083\n",
            "Epoch 138/300\n",
            "5/5 [==============================] - 0s 12ms/step - loss: 0.0659 - accuracy: 0.9750 - val_loss: 2.7498 - val_accuracy: 0.5333\n",
            "Epoch 139/300\n",
            "5/5 [==============================] - 0s 11ms/step - loss: 0.0698 - accuracy: 0.9714 - val_loss: 2.7140 - val_accuracy: 0.5750\n",
            "Epoch 140/300\n",
            "5/5 [==============================] - 0s 13ms/step - loss: 0.0728 - accuracy: 0.9536 - val_loss: 2.7464 - val_accuracy: 0.5500\n",
            "Epoch 141/300\n",
            "5/5 [==============================] - 0s 12ms/step - loss: 0.0878 - accuracy: 0.9679 - val_loss: 2.7359 - val_accuracy: 0.5333\n",
            "Epoch 142/300\n",
            "5/5 [==============================] - 0s 12ms/step - loss: 0.0662 - accuracy: 0.9643 - val_loss: 2.7151 - val_accuracy: 0.5250\n",
            "Epoch 143/300\n",
            "5/5 [==============================] - 0s 12ms/step - loss: 0.0720 - accuracy: 0.9750 - val_loss: 2.7091 - val_accuracy: 0.5500\n",
            "Epoch 144/300\n",
            "5/5 [==============================] - 0s 12ms/step - loss: 0.0721 - accuracy: 0.9714 - val_loss: 2.7825 - val_accuracy: 0.5167\n",
            "Epoch 145/300\n",
            "5/5 [==============================] - 0s 12ms/step - loss: 0.0742 - accuracy: 0.9643 - val_loss: 2.8307 - val_accuracy: 0.5417\n",
            "Epoch 146/300\n",
            "5/5 [==============================] - 0s 13ms/step - loss: 0.0815 - accuracy: 0.9607 - val_loss: 2.7734 - val_accuracy: 0.5750\n",
            "Epoch 147/300\n",
            "5/5 [==============================] - 0s 12ms/step - loss: 0.0745 - accuracy: 0.9714 - val_loss: 2.7443 - val_accuracy: 0.5333\n",
            "Epoch 148/300\n",
            "5/5 [==============================] - 0s 13ms/step - loss: 0.0746 - accuracy: 0.9679 - val_loss: 2.7526 - val_accuracy: 0.5500\n",
            "Epoch 149/300\n",
            "5/5 [==============================] - 0s 12ms/step - loss: 0.0694 - accuracy: 0.9607 - val_loss: 2.7906 - val_accuracy: 0.5583\n",
            "Epoch 150/300\n",
            "5/5 [==============================] - 0s 16ms/step - loss: 0.1344 - accuracy: 0.9500 - val_loss: 2.8246 - val_accuracy: 0.5417\n",
            "Epoch 151/300\n",
            "5/5 [==============================] - 0s 16ms/step - loss: 0.1712 - accuracy: 0.9321 - val_loss: 2.7059 - val_accuracy: 0.5333\n",
            "Epoch 152/300\n",
            "5/5 [==============================] - 0s 14ms/step - loss: 0.1092 - accuracy: 0.9500 - val_loss: 2.5644 - val_accuracy: 0.5167\n",
            "Epoch 153/300\n",
            "5/5 [==============================] - 0s 12ms/step - loss: 0.1260 - accuracy: 0.9500 - val_loss: 2.5304 - val_accuracy: 0.5000\n",
            "Epoch 154/300\n",
            "5/5 [==============================] - 0s 14ms/step - loss: 0.1343 - accuracy: 0.9286 - val_loss: 2.4159 - val_accuracy: 0.5500\n",
            "Epoch 155/300\n",
            "5/5 [==============================] - 0s 12ms/step - loss: 0.1145 - accuracy: 0.9571 - val_loss: 2.3755 - val_accuracy: 0.5667\n",
            "Epoch 156/300\n",
            "5/5 [==============================] - 0s 12ms/step - loss: 0.1104 - accuracy: 0.9536 - val_loss: 2.3955 - val_accuracy: 0.5667\n",
            "Epoch 157/300\n",
            "5/5 [==============================] - 0s 13ms/step - loss: 0.1236 - accuracy: 0.9500 - val_loss: 2.4552 - val_accuracy: 0.5417\n",
            "Epoch 158/300\n",
            "5/5 [==============================] - 0s 12ms/step - loss: 0.0891 - accuracy: 0.9571 - val_loss: 2.4808 - val_accuracy: 0.5583\n",
            "Epoch 159/300\n",
            "5/5 [==============================] - 0s 14ms/step - loss: 0.0832 - accuracy: 0.9643 - val_loss: 2.5620 - val_accuracy: 0.5250\n",
            "Epoch 160/300\n",
            "5/5 [==============================] - 0s 13ms/step - loss: 0.0849 - accuracy: 0.9536 - val_loss: 2.6091 - val_accuracy: 0.5083\n",
            "Epoch 161/300\n",
            "5/5 [==============================] - 0s 13ms/step - loss: 0.0851 - accuracy: 0.9571 - val_loss: 2.5192 - val_accuracy: 0.5500\n",
            "Epoch 162/300\n",
            "5/5 [==============================] - 0s 14ms/step - loss: 0.0819 - accuracy: 0.9571 - val_loss: 2.4870 - val_accuracy: 0.5667\n",
            "Epoch 163/300\n",
            "5/5 [==============================] - 0s 16ms/step - loss: 0.0939 - accuracy: 0.9571 - val_loss: 2.4823 - val_accuracy: 0.5583\n",
            "Epoch 164/300\n",
            "5/5 [==============================] - 0s 17ms/step - loss: 0.0812 - accuracy: 0.9643 - val_loss: 2.5809 - val_accuracy: 0.5500\n",
            "Epoch 165/300\n",
            "5/5 [==============================] - 0s 17ms/step - loss: 0.0827 - accuracy: 0.9607 - val_loss: 2.6065 - val_accuracy: 0.5417\n",
            "Epoch 166/300\n",
            "5/5 [==============================] - 0s 19ms/step - loss: 0.0747 - accuracy: 0.9714 - val_loss: 2.6692 - val_accuracy: 0.5167\n",
            "Epoch 167/300\n",
            "5/5 [==============================] - 0s 17ms/step - loss: 0.0680 - accuracy: 0.9714 - val_loss: 2.6350 - val_accuracy: 0.5333\n",
            "Epoch 168/300\n",
            "5/5 [==============================] - 0s 16ms/step - loss: 0.0681 - accuracy: 0.9714 - val_loss: 2.6078 - val_accuracy: 0.5583\n",
            "Epoch 169/300\n",
            "5/5 [==============================] - 0s 14ms/step - loss: 0.0604 - accuracy: 0.9714 - val_loss: 2.7195 - val_accuracy: 0.5333\n",
            "Epoch 170/300\n",
            "5/5 [==============================] - 0s 12ms/step - loss: 0.0627 - accuracy: 0.9643 - val_loss: 2.8212 - val_accuracy: 0.5167\n",
            "Epoch 171/300\n",
            "5/5 [==============================] - 0s 12ms/step - loss: 0.0592 - accuracy: 0.9750 - val_loss: 2.8256 - val_accuracy: 0.5250\n",
            "Epoch 172/300\n",
            "5/5 [==============================] - 0s 12ms/step - loss: 0.0489 - accuracy: 0.9821 - val_loss: 2.8483 - val_accuracy: 0.5000\n",
            "Epoch 173/300\n",
            "5/5 [==============================] - 0s 12ms/step - loss: 0.0590 - accuracy: 0.9714 - val_loss: 2.8347 - val_accuracy: 0.5417\n",
            "Epoch 174/300\n",
            "5/5 [==============================] - 0s 16ms/step - loss: 0.0520 - accuracy: 0.9857 - val_loss: 2.9004 - val_accuracy: 0.5250\n",
            "Epoch 175/300\n",
            "5/5 [==============================] - 0s 20ms/step - loss: 0.0572 - accuracy: 0.9750 - val_loss: 2.8208 - val_accuracy: 0.5417\n",
            "Epoch 176/300\n",
            "5/5 [==============================] - 0s 17ms/step - loss: 0.0468 - accuracy: 0.9786 - val_loss: 2.9023 - val_accuracy: 0.5083\n",
            "Epoch 177/300\n",
            "5/5 [==============================] - 0s 18ms/step - loss: 0.0404 - accuracy: 0.9786 - val_loss: 2.9133 - val_accuracy: 0.5000\n",
            "Epoch 178/300\n",
            "5/5 [==============================] - 0s 17ms/step - loss: 0.0403 - accuracy: 0.9893 - val_loss: 2.9529 - val_accuracy: 0.5250\n",
            "Epoch 179/300\n",
            "5/5 [==============================] - 0s 17ms/step - loss: 0.0412 - accuracy: 0.9821 - val_loss: 3.0062 - val_accuracy: 0.4917\n",
            "Epoch 180/300\n",
            "5/5 [==============================] - 0s 12ms/step - loss: 0.0427 - accuracy: 0.9786 - val_loss: 2.9912 - val_accuracy: 0.5167\n",
            "Epoch 181/300\n",
            "5/5 [==============================] - 0s 12ms/step - loss: 0.0633 - accuracy: 0.9714 - val_loss: 2.9909 - val_accuracy: 0.5083\n",
            "Epoch 182/300\n",
            "5/5 [==============================] - 0s 16ms/step - loss: 0.0522 - accuracy: 0.9714 - val_loss: 2.9407 - val_accuracy: 0.5500\n",
            "Epoch 183/300\n",
            "5/5 [==============================] - 0s 13ms/step - loss: 0.0506 - accuracy: 0.9750 - val_loss: 2.9235 - val_accuracy: 0.5083\n",
            "Epoch 184/300\n",
            "5/5 [==============================] - 0s 12ms/step - loss: 0.0464 - accuracy: 0.9750 - val_loss: 2.8837 - val_accuracy: 0.5250\n",
            "Epoch 185/300\n",
            "5/5 [==============================] - 0s 12ms/step - loss: 0.0454 - accuracy: 0.9821 - val_loss: 2.9551 - val_accuracy: 0.5083\n",
            "Epoch 186/300\n",
            "5/5 [==============================] - 0s 13ms/step - loss: 0.0394 - accuracy: 0.9750 - val_loss: 3.0348 - val_accuracy: 0.5083\n",
            "Epoch 187/300\n",
            "5/5 [==============================] - 0s 12ms/step - loss: 0.0428 - accuracy: 0.9857 - val_loss: 3.0588 - val_accuracy: 0.5000\n",
            "Epoch 188/300\n",
            "5/5 [==============================] - 0s 12ms/step - loss: 0.0483 - accuracy: 0.9786 - val_loss: 3.0430 - val_accuracy: 0.5083\n",
            "Epoch 189/300\n",
            "5/5 [==============================] - 0s 12ms/step - loss: 0.0382 - accuracy: 0.9821 - val_loss: 3.0174 - val_accuracy: 0.5333\n",
            "Epoch 190/300\n",
            "5/5 [==============================] - 0s 12ms/step - loss: 0.0457 - accuracy: 0.9821 - val_loss: 3.0762 - val_accuracy: 0.5083\n",
            "Epoch 191/300\n",
            "5/5 [==============================] - 0s 13ms/step - loss: 0.0462 - accuracy: 0.9750 - val_loss: 3.1031 - val_accuracy: 0.5083\n",
            "Epoch 192/300\n",
            "5/5 [==============================] - 0s 12ms/step - loss: 0.0425 - accuracy: 0.9750 - val_loss: 3.0675 - val_accuracy: 0.5333\n",
            "Epoch 193/300\n",
            "5/5 [==============================] - 0s 13ms/step - loss: 0.0374 - accuracy: 0.9821 - val_loss: 3.1526 - val_accuracy: 0.5167\n",
            "Epoch 194/300\n",
            "5/5 [==============================] - 0s 13ms/step - loss: 0.0424 - accuracy: 0.9750 - val_loss: 3.1456 - val_accuracy: 0.5083\n",
            "Epoch 195/300\n",
            "5/5 [==============================] - 0s 13ms/step - loss: 0.0385 - accuracy: 0.9786 - val_loss: 3.1330 - val_accuracy: 0.5250\n",
            "Epoch 196/300\n",
            "5/5 [==============================] - 0s 11ms/step - loss: 0.0396 - accuracy: 0.9750 - val_loss: 3.1414 - val_accuracy: 0.4917\n",
            "Epoch 197/300\n",
            "5/5 [==============================] - 0s 12ms/step - loss: 0.0370 - accuracy: 0.9786 - val_loss: 3.1000 - val_accuracy: 0.5250\n",
            "Epoch 198/300\n",
            "5/5 [==============================] - 0s 13ms/step - loss: 0.0365 - accuracy: 0.9821 - val_loss: 3.1225 - val_accuracy: 0.5083\n",
            "Epoch 199/300\n",
            "5/5 [==============================] - 0s 14ms/step - loss: 0.0363 - accuracy: 0.9750 - val_loss: 3.1762 - val_accuracy: 0.4917\n",
            "Epoch 200/300\n",
            "5/5 [==============================] - 0s 13ms/step - loss: 0.0372 - accuracy: 0.9821 - val_loss: 3.1642 - val_accuracy: 0.5250\n",
            "Epoch 201/300\n",
            "5/5 [==============================] - 0s 12ms/step - loss: 0.0351 - accuracy: 0.9821 - val_loss: 3.2056 - val_accuracy: 0.5000\n",
            "Epoch 202/300\n",
            "5/5 [==============================] - 0s 13ms/step - loss: 0.0337 - accuracy: 0.9786 - val_loss: 3.1611 - val_accuracy: 0.5083\n",
            "Epoch 203/300\n",
            "5/5 [==============================] - 0s 12ms/step - loss: 0.0340 - accuracy: 0.9893 - val_loss: 3.1632 - val_accuracy: 0.5083\n",
            "Epoch 204/300\n",
            "5/5 [==============================] - 0s 13ms/step - loss: 0.0350 - accuracy: 0.9821 - val_loss: 3.1956 - val_accuracy: 0.5083\n",
            "Epoch 205/300\n",
            "5/5 [==============================] - 0s 13ms/step - loss: 0.0350 - accuracy: 0.9857 - val_loss: 3.1840 - val_accuracy: 0.5167\n",
            "Epoch 206/300\n",
            "5/5 [==============================] - 0s 13ms/step - loss: 0.0331 - accuracy: 0.9893 - val_loss: 3.2285 - val_accuracy: 0.5167\n",
            "Epoch 207/300\n",
            "5/5 [==============================] - 0s 16ms/step - loss: 0.0301 - accuracy: 0.9821 - val_loss: 3.2181 - val_accuracy: 0.5083\n",
            "Epoch 208/300\n",
            "5/5 [==============================] - 0s 13ms/step - loss: 0.0319 - accuracy: 0.9821 - val_loss: 3.2180 - val_accuracy: 0.5167\n",
            "Epoch 209/300\n",
            "5/5 [==============================] - 0s 12ms/step - loss: 0.0428 - accuracy: 0.9786 - val_loss: 3.1763 - val_accuracy: 0.5167\n",
            "Epoch 210/300\n",
            "5/5 [==============================] - 0s 12ms/step - loss: 0.0543 - accuracy: 0.9821 - val_loss: 3.1447 - val_accuracy: 0.5083\n",
            "Epoch 211/300\n",
            "5/5 [==============================] - 0s 12ms/step - loss: 0.0739 - accuracy: 0.9750 - val_loss: 3.1919 - val_accuracy: 0.5083\n",
            "Epoch 212/300\n",
            "5/5 [==============================] - 0s 13ms/step - loss: 0.0592 - accuracy: 0.9750 - val_loss: 3.0082 - val_accuracy: 0.5417\n",
            "Epoch 213/300\n",
            "5/5 [==============================] - 0s 12ms/step - loss: 0.0535 - accuracy: 0.9750 - val_loss: 2.9388 - val_accuracy: 0.5583\n",
            "Epoch 214/300\n",
            "5/5 [==============================] - 0s 12ms/step - loss: 0.0701 - accuracy: 0.9714 - val_loss: 3.1175 - val_accuracy: 0.5083\n",
            "Epoch 215/300\n",
            "5/5 [==============================] - 0s 13ms/step - loss: 0.0690 - accuracy: 0.9643 - val_loss: 3.3092 - val_accuracy: 0.4917\n",
            "Epoch 216/300\n",
            "5/5 [==============================] - 0s 12ms/step - loss: 0.1656 - accuracy: 0.9500 - val_loss: 2.7660 - val_accuracy: 0.5417\n",
            "Epoch 217/300\n",
            "5/5 [==============================] - 0s 12ms/step - loss: 0.2187 - accuracy: 0.9214 - val_loss: 2.6415 - val_accuracy: 0.4750\n",
            "Epoch 218/300\n",
            "5/5 [==============================] - 0s 15ms/step - loss: 0.2731 - accuracy: 0.9321 - val_loss: 2.1942 - val_accuracy: 0.4917\n",
            "Epoch 219/300\n",
            "5/5 [==============================] - 0s 12ms/step - loss: 0.2139 - accuracy: 0.9179 - val_loss: 1.6846 - val_accuracy: 0.5417\n",
            "Epoch 220/300\n",
            "5/5 [==============================] - 0s 13ms/step - loss: 0.1811 - accuracy: 0.9250 - val_loss: 1.7542 - val_accuracy: 0.5083\n",
            "Epoch 221/300\n",
            "5/5 [==============================] - 0s 17ms/step - loss: 0.1664 - accuracy: 0.9357 - val_loss: 1.8189 - val_accuracy: 0.4917\n",
            "Epoch 222/300\n",
            "5/5 [==============================] - 0s 16ms/step - loss: 0.1421 - accuracy: 0.9286 - val_loss: 1.8865 - val_accuracy: 0.5417\n",
            "Epoch 223/300\n",
            "5/5 [==============================] - 0s 12ms/step - loss: 0.1109 - accuracy: 0.9571 - val_loss: 1.7783 - val_accuracy: 0.5583\n",
            "Epoch 224/300\n",
            "5/5 [==============================] - 0s 15ms/step - loss: 0.1012 - accuracy: 0.9643 - val_loss: 1.9232 - val_accuracy: 0.5083\n",
            "Epoch 225/300\n",
            "5/5 [==============================] - 0s 12ms/step - loss: 0.0868 - accuracy: 0.9643 - val_loss: 2.0829 - val_accuracy: 0.5167\n",
            "Epoch 226/300\n",
            "5/5 [==============================] - 0s 13ms/step - loss: 0.0831 - accuracy: 0.9679 - val_loss: 2.1926 - val_accuracy: 0.5333\n",
            "Epoch 227/300\n",
            "5/5 [==============================] - 0s 13ms/step - loss: 0.0958 - accuracy: 0.9571 - val_loss: 2.2599 - val_accuracy: 0.5250\n",
            "Epoch 228/300\n",
            "5/5 [==============================] - 0s 13ms/step - loss: 0.0961 - accuracy: 0.9536 - val_loss: 2.2683 - val_accuracy: 0.5333\n",
            "Epoch 229/300\n",
            "5/5 [==============================] - 0s 12ms/step - loss: 0.0860 - accuracy: 0.9607 - val_loss: 2.2684 - val_accuracy: 0.5417\n",
            "Epoch 230/300\n",
            "5/5 [==============================] - 0s 15ms/step - loss: 0.0996 - accuracy: 0.9464 - val_loss: 2.2818 - val_accuracy: 0.5500\n",
            "Epoch 231/300\n",
            "5/5 [==============================] - 0s 15ms/step - loss: 0.2340 - accuracy: 0.9429 - val_loss: 2.2330 - val_accuracy: 0.5750\n",
            "Epoch 232/300\n",
            "5/5 [==============================] - 0s 13ms/step - loss: 0.2462 - accuracy: 0.9107 - val_loss: 2.1909 - val_accuracy: 0.5333\n",
            "Epoch 233/300\n",
            "5/5 [==============================] - 0s 12ms/step - loss: 0.1819 - accuracy: 0.9071 - val_loss: 2.0106 - val_accuracy: 0.5500\n",
            "Epoch 234/300\n",
            "5/5 [==============================] - 0s 16ms/step - loss: 0.1637 - accuracy: 0.9500 - val_loss: 2.0675 - val_accuracy: 0.4917\n",
            "Epoch 235/300\n",
            "5/5 [==============================] - 0s 15ms/step - loss: 0.1360 - accuracy: 0.9321 - val_loss: 2.0171 - val_accuracy: 0.5250\n",
            "Epoch 236/300\n",
            "5/5 [==============================] - 0s 16ms/step - loss: 0.1013 - accuracy: 0.9607 - val_loss: 2.0640 - val_accuracy: 0.5417\n",
            "Epoch 237/300\n",
            "5/5 [==============================] - 0s 13ms/step - loss: 0.0923 - accuracy: 0.9679 - val_loss: 2.1499 - val_accuracy: 0.5583\n",
            "Epoch 238/300\n",
            "5/5 [==============================] - 0s 13ms/step - loss: 0.0739 - accuracy: 0.9643 - val_loss: 2.2905 - val_accuracy: 0.5167\n",
            "Epoch 239/300\n",
            "5/5 [==============================] - 0s 12ms/step - loss: 0.0834 - accuracy: 0.9643 - val_loss: 2.3848 - val_accuracy: 0.5333\n",
            "Epoch 240/300\n",
            "5/5 [==============================] - 0s 13ms/step - loss: 0.0915 - accuracy: 0.9393 - val_loss: 2.5164 - val_accuracy: 0.4917\n",
            "Epoch 241/300\n",
            "5/5 [==============================] - 0s 12ms/step - loss: 0.0697 - accuracy: 0.9750 - val_loss: 2.4945 - val_accuracy: 0.5333\n",
            "Epoch 242/300\n",
            "5/5 [==============================] - 0s 12ms/step - loss: 0.0677 - accuracy: 0.9607 - val_loss: 2.5874 - val_accuracy: 0.5083\n",
            "Epoch 243/300\n",
            "5/5 [==============================] - 0s 13ms/step - loss: 0.0587 - accuracy: 0.9750 - val_loss: 2.6315 - val_accuracy: 0.5417\n",
            "Epoch 244/300\n",
            "5/5 [==============================] - 0s 12ms/step - loss: 0.0667 - accuracy: 0.9714 - val_loss: 2.6415 - val_accuracy: 0.5083\n",
            "Epoch 245/300\n",
            "5/5 [==============================] - 0s 12ms/step - loss: 0.0935 - accuracy: 0.9643 - val_loss: 2.5564 - val_accuracy: 0.5167\n",
            "Epoch 246/300\n",
            "5/5 [==============================] - 0s 13ms/step - loss: 0.1276 - accuracy: 0.9571 - val_loss: 2.3094 - val_accuracy: 0.5250\n",
            "Epoch 247/300\n",
            "5/5 [==============================] - 0s 12ms/step - loss: 0.1618 - accuracy: 0.9429 - val_loss: 2.2452 - val_accuracy: 0.5417\n",
            "Epoch 248/300\n",
            "5/5 [==============================] - 0s 15ms/step - loss: 0.1592 - accuracy: 0.9286 - val_loss: 2.1381 - val_accuracy: 0.5333\n",
            "Epoch 249/300\n",
            "5/5 [==============================] - 0s 12ms/step - loss: 0.1306 - accuracy: 0.9464 - val_loss: 1.9155 - val_accuracy: 0.6000\n",
            "Epoch 250/300\n",
            "5/5 [==============================] - 0s 12ms/step - loss: 0.1197 - accuracy: 0.9464 - val_loss: 2.0869 - val_accuracy: 0.5250\n",
            "Epoch 251/300\n",
            "5/5 [==============================] - 0s 14ms/step - loss: 0.1007 - accuracy: 0.9607 - val_loss: 2.2497 - val_accuracy: 0.5250\n",
            "Epoch 252/300\n",
            "5/5 [==============================] - 0s 11ms/step - loss: 0.0928 - accuracy: 0.9679 - val_loss: 2.4164 - val_accuracy: 0.5667\n",
            "Epoch 253/300\n",
            "5/5 [==============================] - 0s 14ms/step - loss: 0.0856 - accuracy: 0.9679 - val_loss: 2.5640 - val_accuracy: 0.5500\n",
            "Epoch 254/300\n",
            "5/5 [==============================] - 0s 13ms/step - loss: 0.0711 - accuracy: 0.9750 - val_loss: 2.7110 - val_accuracy: 0.5167\n",
            "Epoch 255/300\n",
            "5/5 [==============================] - 0s 13ms/step - loss: 0.0756 - accuracy: 0.9714 - val_loss: 2.7396 - val_accuracy: 0.5167\n",
            "Epoch 256/300\n",
            "5/5 [==============================] - 0s 12ms/step - loss: 0.0614 - accuracy: 0.9786 - val_loss: 2.7074 - val_accuracy: 0.5583\n",
            "Epoch 257/300\n",
            "5/5 [==============================] - 0s 12ms/step - loss: 0.0665 - accuracy: 0.9750 - val_loss: 2.8051 - val_accuracy: 0.5333\n",
            "Epoch 258/300\n",
            "5/5 [==============================] - 0s 12ms/step - loss: 0.0609 - accuracy: 0.9750 - val_loss: 2.7629 - val_accuracy: 0.5333\n",
            "Epoch 259/300\n",
            "5/5 [==============================] - 0s 12ms/step - loss: 0.0605 - accuracy: 0.9714 - val_loss: 2.8231 - val_accuracy: 0.5000\n",
            "Epoch 260/300\n",
            "5/5 [==============================] - 0s 13ms/step - loss: 0.0565 - accuracy: 0.9750 - val_loss: 2.9267 - val_accuracy: 0.5167\n",
            "Epoch 261/300\n",
            "5/5 [==============================] - 0s 15ms/step - loss: 0.0687 - accuracy: 0.9643 - val_loss: 2.9968 - val_accuracy: 0.5167\n",
            "Epoch 262/300\n",
            "5/5 [==============================] - 0s 13ms/step - loss: 0.0586 - accuracy: 0.9750 - val_loss: 2.9690 - val_accuracy: 0.5500\n",
            "Epoch 263/300\n",
            "5/5 [==============================] - 0s 11ms/step - loss: 0.0484 - accuracy: 0.9786 - val_loss: 3.0346 - val_accuracy: 0.5500\n",
            "Epoch 264/300\n",
            "5/5 [==============================] - 0s 12ms/step - loss: 0.0646 - accuracy: 0.9714 - val_loss: 3.0522 - val_accuracy: 0.5417\n",
            "Epoch 265/300\n",
            "5/5 [==============================] - 0s 12ms/step - loss: 0.1137 - accuracy: 0.9536 - val_loss: 3.0282 - val_accuracy: 0.5250\n",
            "Epoch 266/300\n",
            "5/5 [==============================] - 0s 13ms/step - loss: 0.0741 - accuracy: 0.9750 - val_loss: 3.0646 - val_accuracy: 0.5667\n",
            "Epoch 267/300\n",
            "5/5 [==============================] - 0s 12ms/step - loss: 0.0914 - accuracy: 0.9607 - val_loss: 3.0016 - val_accuracy: 0.5333\n",
            "Epoch 268/300\n",
            "5/5 [==============================] - 0s 13ms/step - loss: 0.1053 - accuracy: 0.9464 - val_loss: 3.1914 - val_accuracy: 0.5583\n",
            "Epoch 269/300\n",
            "5/5 [==============================] - 0s 16ms/step - loss: 0.0619 - accuracy: 0.9714 - val_loss: 3.0554 - val_accuracy: 0.5750\n",
            "Epoch 270/300\n",
            "5/5 [==============================] - 0s 17ms/step - loss: 0.0644 - accuracy: 0.9714 - val_loss: 3.2063 - val_accuracy: 0.5500\n",
            "Epoch 271/300\n",
            "5/5 [==============================] - 0s 14ms/step - loss: 0.0766 - accuracy: 0.9714 - val_loss: 3.0818 - val_accuracy: 0.5417\n",
            "Epoch 272/300\n",
            "5/5 [==============================] - 0s 18ms/step - loss: 0.0510 - accuracy: 0.9821 - val_loss: 3.1004 - val_accuracy: 0.5333\n",
            "Epoch 273/300\n",
            "5/5 [==============================] - 0s 17ms/step - loss: 0.0708 - accuracy: 0.9714 - val_loss: 3.0481 - val_accuracy: 0.5333\n",
            "Epoch 274/300\n",
            "5/5 [==============================] - 0s 16ms/step - loss: 0.0442 - accuracy: 0.9786 - val_loss: 2.9447 - val_accuracy: 0.5583\n",
            "Epoch 275/300\n",
            "5/5 [==============================] - 0s 17ms/step - loss: 0.0554 - accuracy: 0.9786 - val_loss: 2.9606 - val_accuracy: 0.5500\n",
            "Epoch 276/300\n",
            "5/5 [==============================] - 0s 18ms/step - loss: 0.0394 - accuracy: 0.9786 - val_loss: 2.9711 - val_accuracy: 0.5417\n",
            "Epoch 277/300\n",
            "5/5 [==============================] - 0s 17ms/step - loss: 0.0446 - accuracy: 0.9786 - val_loss: 3.0053 - val_accuracy: 0.5500\n",
            "Epoch 278/300\n",
            "5/5 [==============================] - 0s 16ms/step - loss: 0.0429 - accuracy: 0.9750 - val_loss: 3.0291 - val_accuracy: 0.5417\n",
            "Epoch 279/300\n",
            "5/5 [==============================] - 0s 16ms/step - loss: 0.0434 - accuracy: 0.9786 - val_loss: 3.0554 - val_accuracy: 0.5417\n",
            "Epoch 280/300\n",
            "5/5 [==============================] - 0s 16ms/step - loss: 0.0472 - accuracy: 0.9786 - val_loss: 3.0761 - val_accuracy: 0.5500\n",
            "Epoch 281/300\n",
            "5/5 [==============================] - 0s 13ms/step - loss: 0.0571 - accuracy: 0.9679 - val_loss: 3.0795 - val_accuracy: 0.5417\n",
            "Epoch 282/300\n",
            "5/5 [==============================] - 0s 13ms/step - loss: 0.0652 - accuracy: 0.9786 - val_loss: 3.2077 - val_accuracy: 0.5583\n",
            "Epoch 283/300\n",
            "5/5 [==============================] - 0s 12ms/step - loss: 0.0491 - accuracy: 0.9750 - val_loss: 3.1326 - val_accuracy: 0.5750\n",
            "Epoch 284/300\n",
            "5/5 [==============================] - 0s 13ms/step - loss: 0.0659 - accuracy: 0.9714 - val_loss: 3.1834 - val_accuracy: 0.5583\n",
            "Epoch 285/300\n",
            "5/5 [==============================] - 0s 16ms/step - loss: 0.0425 - accuracy: 0.9786 - val_loss: 3.2637 - val_accuracy: 0.5667\n",
            "Epoch 286/300\n",
            "5/5 [==============================] - 0s 17ms/step - loss: 0.0536 - accuracy: 0.9786 - val_loss: 3.1846 - val_accuracy: 0.5583\n",
            "Epoch 287/300\n",
            "5/5 [==============================] - 0s 20ms/step - loss: 0.0460 - accuracy: 0.9750 - val_loss: 3.1838 - val_accuracy: 0.5417\n",
            "Epoch 288/300\n",
            "5/5 [==============================] - 0s 20ms/step - loss: 0.0390 - accuracy: 0.9786 - val_loss: 3.1993 - val_accuracy: 0.5583\n",
            "Epoch 289/300\n",
            "5/5 [==============================] - 0s 19ms/step - loss: 0.0426 - accuracy: 0.9786 - val_loss: 3.1849 - val_accuracy: 0.5500\n",
            "Epoch 290/300\n",
            "5/5 [==============================] - 0s 17ms/step - loss: 0.0362 - accuracy: 0.9857 - val_loss: 3.1767 - val_accuracy: 0.5667\n",
            "Epoch 291/300\n",
            "5/5 [==============================] - 0s 17ms/step - loss: 0.0438 - accuracy: 0.9750 - val_loss: 3.2109 - val_accuracy: 0.5667\n",
            "Epoch 292/300\n",
            "5/5 [==============================] - 0s 19ms/step - loss: 0.0371 - accuracy: 0.9786 - val_loss: 3.2335 - val_accuracy: 0.5583\n",
            "Epoch 293/300\n",
            "5/5 [==============================] - 0s 17ms/step - loss: 0.0434 - accuracy: 0.9821 - val_loss: 3.2171 - val_accuracy: 0.5583\n",
            "Epoch 294/300\n",
            "5/5 [==============================] - 0s 17ms/step - loss: 0.0363 - accuracy: 0.9786 - val_loss: 3.2211 - val_accuracy: 0.5500\n",
            "Epoch 295/300\n",
            "5/5 [==============================] - 0s 17ms/step - loss: 0.0356 - accuracy: 0.9786 - val_loss: 3.2491 - val_accuracy: 0.5417\n",
            "Epoch 296/300\n",
            "5/5 [==============================] - 0s 13ms/step - loss: 0.0347 - accuracy: 0.9750 - val_loss: 3.2795 - val_accuracy: 0.5583\n",
            "Epoch 297/300\n",
            "5/5 [==============================] - 0s 13ms/step - loss: 0.0416 - accuracy: 0.9821 - val_loss: 3.3194 - val_accuracy: 0.5500\n",
            "Epoch 298/300\n",
            "5/5 [==============================] - 0s 13ms/step - loss: 0.0343 - accuracy: 0.9786 - val_loss: 3.3048 - val_accuracy: 0.5667\n",
            "Epoch 299/300\n",
            "5/5 [==============================] - 0s 13ms/step - loss: 0.0349 - accuracy: 0.9857 - val_loss: 3.3550 - val_accuracy: 0.5333\n",
            "Epoch 300/300\n",
            "5/5 [==============================] - 0s 15ms/step - loss: 0.0396 - accuracy: 0.9821 - val_loss: 3.3523 - val_accuracy: 0.5500\n"
          ],
          "name": "stdout"
        },
        {
          "output_type": "execute_result",
          "data": {
            "text/plain": [
              "<tensorflow.python.keras.callbacks.History at 0x7f193638b080>"
            ]
          },
          "metadata": {
            "tags": []
          },
          "execution_count": 46
        }
      ]
    },
    {
      "cell_type": "code",
      "metadata": {
        "colab": {
          "base_uri": "https://localhost:8080/",
          "height": 493
        },
        "id": "G0E_GtJFPunR",
        "outputId": "2cf28c32-51a0-4070-be7b-c49fc5cabddc"
      },
      "source": [
        "glove = pd.read_csv('/content/drive/MyDrive/NLP-Natural-Language-Processing-Methods/New folder/glove.twitter.27B.50d.txt')"
      ],
      "execution_count": null,
      "outputs": [
        {
          "output_type": "error",
          "ename": "ParserError",
          "evalue": "ignored",
          "traceback": [
            "\u001b[0;31m---------------------------------------------------------------------------\u001b[0m",
            "\u001b[0;31mParserError\u001b[0m                               Traceback (most recent call last)",
            "\u001b[0;32m<ipython-input-50-790b21626870>\u001b[0m in \u001b[0;36m<module>\u001b[0;34m()\u001b[0m\n\u001b[0;32m----> 1\u001b[0;31m \u001b[0mglove\u001b[0m \u001b[0;34m=\u001b[0m \u001b[0mpd\u001b[0m\u001b[0;34m.\u001b[0m\u001b[0mread_csv\u001b[0m\u001b[0;34m(\u001b[0m\u001b[0;34m'/content/drive/MyDrive/NLP-Natural-Language-Processing-Methods/New folder/glove.twitter.27B.50d.txt'\u001b[0m\u001b[0;34m)\u001b[0m\u001b[0;34m\u001b[0m\u001b[0;34m\u001b[0m\u001b[0m\n\u001b[0m",
            "\u001b[0;32m/usr/local/lib/python3.6/dist-packages/pandas/io/parsers.py\u001b[0m in \u001b[0;36mread_csv\u001b[0;34m(filepath_or_buffer, sep, delimiter, header, names, index_col, usecols, squeeze, prefix, mangle_dupe_cols, dtype, engine, converters, true_values, false_values, skipinitialspace, skiprows, skipfooter, nrows, na_values, keep_default_na, na_filter, verbose, skip_blank_lines, parse_dates, infer_datetime_format, keep_date_col, date_parser, dayfirst, cache_dates, iterator, chunksize, compression, thousands, decimal, lineterminator, quotechar, quoting, doublequote, escapechar, comment, encoding, dialect, error_bad_lines, warn_bad_lines, delim_whitespace, low_memory, memory_map, float_precision)\u001b[0m\n\u001b[1;32m    686\u001b[0m     )\n\u001b[1;32m    687\u001b[0m \u001b[0;34m\u001b[0m\u001b[0m\n\u001b[0;32m--> 688\u001b[0;31m     \u001b[0;32mreturn\u001b[0m \u001b[0m_read\u001b[0m\u001b[0;34m(\u001b[0m\u001b[0mfilepath_or_buffer\u001b[0m\u001b[0;34m,\u001b[0m \u001b[0mkwds\u001b[0m\u001b[0;34m)\u001b[0m\u001b[0;34m\u001b[0m\u001b[0;34m\u001b[0m\u001b[0m\n\u001b[0m\u001b[1;32m    689\u001b[0m \u001b[0;34m\u001b[0m\u001b[0m\n\u001b[1;32m    690\u001b[0m \u001b[0;34m\u001b[0m\u001b[0m\n",
            "\u001b[0;32m/usr/local/lib/python3.6/dist-packages/pandas/io/parsers.py\u001b[0m in \u001b[0;36m_read\u001b[0;34m(filepath_or_buffer, kwds)\u001b[0m\n\u001b[1;32m    458\u001b[0m \u001b[0;34m\u001b[0m\u001b[0m\n\u001b[1;32m    459\u001b[0m     \u001b[0;32mtry\u001b[0m\u001b[0;34m:\u001b[0m\u001b[0;34m\u001b[0m\u001b[0;34m\u001b[0m\u001b[0m\n\u001b[0;32m--> 460\u001b[0;31m         \u001b[0mdata\u001b[0m \u001b[0;34m=\u001b[0m \u001b[0mparser\u001b[0m\u001b[0;34m.\u001b[0m\u001b[0mread\u001b[0m\u001b[0;34m(\u001b[0m\u001b[0mnrows\u001b[0m\u001b[0;34m)\u001b[0m\u001b[0;34m\u001b[0m\u001b[0;34m\u001b[0m\u001b[0m\n\u001b[0m\u001b[1;32m    461\u001b[0m     \u001b[0;32mfinally\u001b[0m\u001b[0;34m:\u001b[0m\u001b[0;34m\u001b[0m\u001b[0;34m\u001b[0m\u001b[0m\n\u001b[1;32m    462\u001b[0m         \u001b[0mparser\u001b[0m\u001b[0;34m.\u001b[0m\u001b[0mclose\u001b[0m\u001b[0;34m(\u001b[0m\u001b[0;34m)\u001b[0m\u001b[0;34m\u001b[0m\u001b[0;34m\u001b[0m\u001b[0m\n",
            "\u001b[0;32m/usr/local/lib/python3.6/dist-packages/pandas/io/parsers.py\u001b[0m in \u001b[0;36mread\u001b[0;34m(self, nrows)\u001b[0m\n\u001b[1;32m   1196\u001b[0m     \u001b[0;32mdef\u001b[0m \u001b[0mread\u001b[0m\u001b[0;34m(\u001b[0m\u001b[0mself\u001b[0m\u001b[0;34m,\u001b[0m \u001b[0mnrows\u001b[0m\u001b[0;34m=\u001b[0m\u001b[0;32mNone\u001b[0m\u001b[0;34m)\u001b[0m\u001b[0;34m:\u001b[0m\u001b[0;34m\u001b[0m\u001b[0;34m\u001b[0m\u001b[0m\n\u001b[1;32m   1197\u001b[0m         \u001b[0mnrows\u001b[0m \u001b[0;34m=\u001b[0m \u001b[0m_validate_integer\u001b[0m\u001b[0;34m(\u001b[0m\u001b[0;34m\"nrows\"\u001b[0m\u001b[0;34m,\u001b[0m \u001b[0mnrows\u001b[0m\u001b[0;34m)\u001b[0m\u001b[0;34m\u001b[0m\u001b[0;34m\u001b[0m\u001b[0m\n\u001b[0;32m-> 1198\u001b[0;31m         \u001b[0mret\u001b[0m \u001b[0;34m=\u001b[0m \u001b[0mself\u001b[0m\u001b[0;34m.\u001b[0m\u001b[0m_engine\u001b[0m\u001b[0;34m.\u001b[0m\u001b[0mread\u001b[0m\u001b[0;34m(\u001b[0m\u001b[0mnrows\u001b[0m\u001b[0;34m)\u001b[0m\u001b[0;34m\u001b[0m\u001b[0;34m\u001b[0m\u001b[0m\n\u001b[0m\u001b[1;32m   1199\u001b[0m \u001b[0;34m\u001b[0m\u001b[0m\n\u001b[1;32m   1200\u001b[0m         \u001b[0;31m# May alter columns / col_dict\u001b[0m\u001b[0;34m\u001b[0m\u001b[0;34m\u001b[0m\u001b[0;34m\u001b[0m\u001b[0m\n",
            "\u001b[0;32m/usr/local/lib/python3.6/dist-packages/pandas/io/parsers.py\u001b[0m in \u001b[0;36mread\u001b[0;34m(self, nrows)\u001b[0m\n\u001b[1;32m   2155\u001b[0m     \u001b[0;32mdef\u001b[0m \u001b[0mread\u001b[0m\u001b[0;34m(\u001b[0m\u001b[0mself\u001b[0m\u001b[0;34m,\u001b[0m \u001b[0mnrows\u001b[0m\u001b[0;34m=\u001b[0m\u001b[0;32mNone\u001b[0m\u001b[0;34m)\u001b[0m\u001b[0;34m:\u001b[0m\u001b[0;34m\u001b[0m\u001b[0;34m\u001b[0m\u001b[0m\n\u001b[1;32m   2156\u001b[0m         \u001b[0;32mtry\u001b[0m\u001b[0;34m:\u001b[0m\u001b[0;34m\u001b[0m\u001b[0;34m\u001b[0m\u001b[0m\n\u001b[0;32m-> 2157\u001b[0;31m             \u001b[0mdata\u001b[0m \u001b[0;34m=\u001b[0m \u001b[0mself\u001b[0m\u001b[0;34m.\u001b[0m\u001b[0m_reader\u001b[0m\u001b[0;34m.\u001b[0m\u001b[0mread\u001b[0m\u001b[0;34m(\u001b[0m\u001b[0mnrows\u001b[0m\u001b[0;34m)\u001b[0m\u001b[0;34m\u001b[0m\u001b[0;34m\u001b[0m\u001b[0m\n\u001b[0m\u001b[1;32m   2158\u001b[0m         \u001b[0;32mexcept\u001b[0m \u001b[0mStopIteration\u001b[0m\u001b[0;34m:\u001b[0m\u001b[0;34m\u001b[0m\u001b[0;34m\u001b[0m\u001b[0m\n\u001b[1;32m   2159\u001b[0m             \u001b[0;32mif\u001b[0m \u001b[0mself\u001b[0m\u001b[0;34m.\u001b[0m\u001b[0m_first_chunk\u001b[0m\u001b[0;34m:\u001b[0m\u001b[0;34m\u001b[0m\u001b[0;34m\u001b[0m\u001b[0m\n",
            "\u001b[0;32mpandas/_libs/parsers.pyx\u001b[0m in \u001b[0;36mpandas._libs.parsers.TextReader.read\u001b[0;34m()\u001b[0m\n",
            "\u001b[0;32mpandas/_libs/parsers.pyx\u001b[0m in \u001b[0;36mpandas._libs.parsers.TextReader._read_low_memory\u001b[0;34m()\u001b[0m\n",
            "\u001b[0;32mpandas/_libs/parsers.pyx\u001b[0m in \u001b[0;36mpandas._libs.parsers.TextReader._read_rows\u001b[0;34m()\u001b[0m\n",
            "\u001b[0;32mpandas/_libs/parsers.pyx\u001b[0m in \u001b[0;36mpandas._libs.parsers.TextReader._tokenize_rows\u001b[0;34m()\u001b[0m\n",
            "\u001b[0;32mpandas/_libs/parsers.pyx\u001b[0m in \u001b[0;36mpandas._libs.parsers.raise_parser_error\u001b[0;34m()\u001b[0m\n",
            "\u001b[0;31mParserError\u001b[0m: Error tokenizing data. C error: Expected 1 fields in line 5, saw 2\n"
          ]
        }
      ]
    },
    {
      "cell_type": "code",
      "metadata": {
        "id": "yVnE0_PVSHky"
      },
      "source": [
        ""
      ],
      "execution_count": null,
      "outputs": []
    }
  ]
}